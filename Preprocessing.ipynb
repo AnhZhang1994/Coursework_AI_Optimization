{
 "cells": [
  {
   "cell_type": "code",
   "execution_count": 1,
   "metadata": {},
   "outputs": [],
   "source": [
    "# modules we'll use\n",
    "import pandas as pd\n",
    "import numpy as np\n",
    "from numpy.random import rand\n",
    "import re\n",
    "import seaborn as sns\n",
    "\n",
    "\n",
    "# read in all our data\n",
    "train_data= pd.read_excel(\"./train.xlsx\", engine='openpyxl')\n",
    "test_data = pd.read_excel(\"./test.xlsx\", engine='openpyxl')\n",
    "\n"
   ]
  },
  {
   "cell_type": "markdown",
   "metadata": {},
   "source": [
    "## Preprocess train data"
   ]
  },
  {
   "cell_type": "code",
   "execution_count": 2,
   "metadata": {
    "collapsed": false,
    "jupyter": {
     "outputs_hidden": false
    }
   },
   "outputs": [],
   "source": [
    "\n",
    "train_data.replace(to_replace=np.nan,value = '*', inplace = True)"
   ]
  },
  {
   "cell_type": "code",
   "execution_count": 3,
   "metadata": {},
   "outputs": [],
   "source": [
    "\n",
    "#Process margin(d), get the 1st number if there is '/'\n",
    "DFmargind= pd.DataFrame(train_data['margin(d)'])\n",
    "\n",
    "i = 0\n",
    "for i in range(0,DFmargind.shape[0]):\n",
    "    if '/' in str(DFmargind.iloc[i,0]):\n",
    "        DFmargind.iloc[i,0] = str(DFmargind.iloc[i,0]).split('/')[0]\n",
    "    else:\n",
    "        continue"
   ]
  },
  {
   "cell_type": "code",
   "execution_count": 4,
   "metadata": {},
   "outputs": [],
   "source": [
    "#Process WBC pod1 to pod 6 for getting a mean\n",
    "DFWBC = pd.DataFrame(train_data[['WBC_POD#1','WBC_POD#2','WBC_POD#3','WBC_POD#5']])\n",
    "\n"
   ]
  },
  {
   "cell_type": "code",
   "execution_count": 5,
   "metadata": {},
   "outputs": [],
   "source": [
    "#Replace '*' with 0\n",
    "DFWBC.replace(to_replace='*',value = 0, inplace = True)"
   ]
  },
  {
   "cell_type": "code",
   "execution_count": 6,
   "metadata": {},
   "outputs": [],
   "source": [
    "df_temp = pd.DataFrame(columns = ['WBCzeronumber','WBCmean'],index = range(0,DFWBC.shape[0]))"
   ]
  },
  {
   "cell_type": "code",
   "execution_count": 7,
   "metadata": {},
   "outputs": [],
   "source": [
    "#Get \"0\"numbers in each row of WBC and fill it in the temp\n",
    "i = j = count = 0\n",
    "for i in range(0,DFWBC.shape[0]):\n",
    "    for j in range(0,DFWBC.shape[1]):\n",
    "        if DFWBC.iloc[i,j] == 0:\n",
    "            count = count + 1\n",
    "        else:\n",
    "            continue\n",
    "    df_temp.iloc[i,0] = count\n",
    "    count = 0\n",
    "        "
   ]
  },
  {
   "cell_type": "code",
   "execution_count": 8,
   "metadata": {},
   "outputs": [
    {
     "name": "stderr",
     "output_type": "stream",
     "text": [
      "<ipython-input-8-161e67dd7ae7>:6: RuntimeWarning: invalid value encountered in double_scalars\n",
      "  mean = sum/(DFWBC.shape[1]-df_temp.iloc[i,0])\n"
     ]
    }
   ],
   "source": [
    "#sum WBC each row,get mean, and fill it in the temp\n",
    "i = j = sum = mean = 0\n",
    "for i in range(0,DFWBC.shape[0]):\n",
    "    for j in range(0,DFWBC.shape[1]):\n",
    "        sum = sum + DFWBC.iloc[i,j]\n",
    "        mean = sum/(DFWBC.shape[1]-df_temp.iloc[i,0])\n",
    "    df_temp.iloc[i,1] = \"%.2f\"%mean\n",
    "    sum = 0\n",
    "    mean = 0"
   ]
  },
  {
   "cell_type": "code",
   "execution_count": 9,
   "metadata": {},
   "outputs": [
    {
     "name": "stderr",
     "output_type": "stream",
     "text": [
      "<ipython-input-9-2cc4069cf6a9>:25: RuntimeWarning: invalid value encountered in double_scalars\n",
      "  mean = sum/(DFCRP.shape[1]-df_temp.iloc[i,0])\n"
     ]
    }
   ],
   "source": [
    "#Process CRP_POD#1 to CRP_POD#5, to get mean\n",
    "DFCRP = pd.DataFrame(train_data[['CRP_POD#1','CRP_POD#2','CRP_POD#3','CRP_POD#5']])\n",
    "\n",
    "#Replace '*' with 0\n",
    "DFCRP.replace(to_replace='*',value = 0, inplace = True)\n",
    "\n",
    "df_temp1 = pd.DataFrame(columns = ['CRPzeronumber','CRPmean'],index = range(0,DFWBC.shape[0]))\n",
    "\n",
    "#Get \"0\"numbers in each row of CRP and fill it in the temp\n",
    "i = j = count = 0\n",
    "for i in range(0,DFCRP.shape[0]):\n",
    "    for j in range(0,DFCRP.shape[1]):\n",
    "        if DFCRP.iloc[i,j] == 0:\n",
    "            count = count + 1\n",
    "        else:\n",
    "            continue\n",
    "    df_temp1.iloc[i,0] = count\n",
    "    count = 0\n",
    "        \n",
    "#sum CRP each row and fill it in the temp\n",
    "i = j = sum = mean = 0\n",
    "for i in range(0,DFCRP.shape[0]):\n",
    "    for j in range(0,DFCRP.shape[1]):\n",
    "        sum = sum + DFCRP.iloc[i,j]\n",
    "        mean = sum/(DFCRP.shape[1]-df_temp.iloc[i,0])\n",
    "    df_temp1.iloc[i,1] = \"%.2f\"%mean\n",
    "    sum = 0\n",
    "    mean = 0"
   ]
  },
  {
   "cell_type": "code",
   "execution_count": 10,
   "metadata": {},
   "outputs": [],
   "source": [
    "#column of WBC_Pre/post, CRP_Pre/post, 위암병소수\n",
    "DFWBC_Pre = pd.DataFrame(train_data['WBC_Pre'])\n",
    "DFWBC_Post = pd.DataFrame(train_data['WBC_Post'])\n",
    "DFCRP_Pre = pd.DataFrame(train_data['CRP_Pre'])\n",
    "DFCRP_Post = pd.DataFrame(train_data['CRP_Post'])\n",
    "DF위암병소수 = pd.DataFrame(train_data['위암병소수'])\n"
   ]
  },
  {
   "cell_type": "code",
   "execution_count": 11,
   "metadata": {},
   "outputs": [],
   "source": [
    "#numeric columns\n",
    "numericColumns = (train_data.iloc[:,[3]] #age\n",
    "                    .join(train_data.iloc[:,[9]]) #BMI\n",
    "                    .join(train_data.iloc[:,42:44]) #수술시간(min) 출혈량(mL)\n",
    "                    .join(train_data.iloc[:,51:53]) #GAS OUT SD start\n",
    "                    .join(train_data.iloc[:,[58]]) #병변1 크기(Cm)\n",
    "                    .join(DFmargind) #margin(d) after being processed\n",
    "                    .join(DFWBC_Pre)\n",
    "                    .join(DFWBC_Post)\n",
    "                    .join(DFCRP_Pre)\n",
    "                    .join(DFCRP_Post)\n",
    "                    .join(df_temp.iloc[:,[1]] ) #WBC mean after being processed\n",
    "                    .join(df_temp1.iloc[:,[1]] ) #CRP mean after being processed\n",
    "                    .join(DF위암병소수) #위암병소수\n",
    "\n",
    "                    )"
   ]
  },
  {
   "cell_type": "code",
   "execution_count": 12,
   "metadata": {},
   "outputs": [
    {
     "data": {
      "text/html": [
       "<div>\n",
       "<style scoped>\n",
       "    .dataframe tbody tr th:only-of-type {\n",
       "        vertical-align: middle;\n",
       "    }\n",
       "\n",
       "    .dataframe tbody tr th {\n",
       "        vertical-align: top;\n",
       "    }\n",
       "\n",
       "    .dataframe thead th {\n",
       "        text-align: right;\n",
       "    }\n",
       "</style>\n",
       "<table border=\"1\" class=\"dataframe\">\n",
       "  <thead>\n",
       "    <tr style=\"text-align: right;\">\n",
       "      <th></th>\n",
       "      <th>나이</th>\n",
       "      <th>BMI</th>\n",
       "      <th>수술시간(min)</th>\n",
       "      <th>출혈량(mL)</th>\n",
       "      <th>GAS OUT</th>\n",
       "      <th>SD start</th>\n",
       "      <th>병변1 크기(Cm)</th>\n",
       "      <th>margin(d)</th>\n",
       "      <th>WBC_Pre</th>\n",
       "      <th>WBC_Post</th>\n",
       "      <th>CRP_Pre</th>\n",
       "      <th>CRP_Post</th>\n",
       "      <th>WBCmean</th>\n",
       "      <th>CRPmean</th>\n",
       "      <th>위암병소수</th>\n",
       "    </tr>\n",
       "  </thead>\n",
       "  <tbody>\n",
       "    <tr>\n",
       "      <th>0</th>\n",
       "      <td>53</td>\n",
       "      <td>17.11</td>\n",
       "      <td>180</td>\n",
       "      <td>80</td>\n",
       "      <td>3</td>\n",
       "      <td>4</td>\n",
       "      <td>10.4</td>\n",
       "      <td>1.3</td>\n",
       "      <td>6.39</td>\n",
       "      <td>10.37</td>\n",
       "      <td>0.06</td>\n",
       "      <td>0.03</td>\n",
       "      <td>6.26</td>\n",
       "      <td>5.44</td>\n",
       "      <td>1</td>\n",
       "    </tr>\n",
       "    <tr>\n",
       "      <th>1</th>\n",
       "      <td>62</td>\n",
       "      <td>24.01</td>\n",
       "      <td>180</td>\n",
       "      <td>80</td>\n",
       "      <td>2</td>\n",
       "      <td>5</td>\n",
       "      <td>2.3</td>\n",
       "      <td>9.6</td>\n",
       "      <td>6.07</td>\n",
       "      <td>16.72</td>\n",
       "      <td>0.02</td>\n",
       "      <td>0.02</td>\n",
       "      <td>7.99</td>\n",
       "      <td>5.06</td>\n",
       "      <td>1</td>\n",
       "    </tr>\n",
       "    <tr>\n",
       "      <th>2</th>\n",
       "      <td>70</td>\n",
       "      <td>29.7</td>\n",
       "      <td>180</td>\n",
       "      <td>50</td>\n",
       "      <td>2</td>\n",
       "      <td>5</td>\n",
       "      <td>1.5</td>\n",
       "      <td>14.8</td>\n",
       "      <td>6.11</td>\n",
       "      <td>12.34</td>\n",
       "      <td>*</td>\n",
       "      <td>0.15</td>\n",
       "      <td>8.43</td>\n",
       "      <td>10.18</td>\n",
       "      <td>1</td>\n",
       "    </tr>\n",
       "    <tr>\n",
       "      <th>3</th>\n",
       "      <td>72</td>\n",
       "      <td>25.06</td>\n",
       "      <td>180</td>\n",
       "      <td>100</td>\n",
       "      <td>4</td>\n",
       "      <td>14</td>\n",
       "      <td>1.5</td>\n",
       "      <td>13.1</td>\n",
       "      <td>6.59</td>\n",
       "      <td>6.01</td>\n",
       "      <td>1.34</td>\n",
       "      <td>3.77</td>\n",
       "      <td>7.52</td>\n",
       "      <td>16.45</td>\n",
       "      <td>2</td>\n",
       "    </tr>\n",
       "    <tr>\n",
       "      <th>4</th>\n",
       "      <td>53</td>\n",
       "      <td>27.88</td>\n",
       "      <td>180</td>\n",
       "      <td>50</td>\n",
       "      <td>3</td>\n",
       "      <td>4</td>\n",
       "      <td>1.2</td>\n",
       "      <td>11.6</td>\n",
       "      <td>10.14</td>\n",
       "      <td>17.72</td>\n",
       "      <td>*</td>\n",
       "      <td>0.21</td>\n",
       "      <td>9.45</td>\n",
       "      <td>10.54</td>\n",
       "      <td>2</td>\n",
       "    </tr>\n",
       "    <tr>\n",
       "      <th>...</th>\n",
       "      <td>...</td>\n",
       "      <td>...</td>\n",
       "      <td>...</td>\n",
       "      <td>...</td>\n",
       "      <td>...</td>\n",
       "      <td>...</td>\n",
       "      <td>...</td>\n",
       "      <td>...</td>\n",
       "      <td>...</td>\n",
       "      <td>...</td>\n",
       "      <td>...</td>\n",
       "      <td>...</td>\n",
       "      <td>...</td>\n",
       "      <td>...</td>\n",
       "      <td>...</td>\n",
       "    </tr>\n",
       "    <tr>\n",
       "      <th>540</th>\n",
       "      <td>68</td>\n",
       "      <td>24.6</td>\n",
       "      <td>210</td>\n",
       "      <td>100</td>\n",
       "      <td>2</td>\n",
       "      <td>4</td>\n",
       "      <td>3</td>\n",
       "      <td>9.5</td>\n",
       "      <td>5.83</td>\n",
       "      <td>14.6</td>\n",
       "      <td>*</td>\n",
       "      <td>0.52</td>\n",
       "      <td>6.01</td>\n",
       "      <td>22.63</td>\n",
       "      <td>1</td>\n",
       "    </tr>\n",
       "    <tr>\n",
       "      <th>541</th>\n",
       "      <td>63</td>\n",
       "      <td>21.49</td>\n",
       "      <td>150</td>\n",
       "      <td>50</td>\n",
       "      <td>4</td>\n",
       "      <td>4</td>\n",
       "      <td>3.5</td>\n",
       "      <td>9.8</td>\n",
       "      <td>8.22</td>\n",
       "      <td>15.24</td>\n",
       "      <td>*</td>\n",
       "      <td>0.12</td>\n",
       "      <td>10.08</td>\n",
       "      <td>8.43</td>\n",
       "      <td>1</td>\n",
       "    </tr>\n",
       "    <tr>\n",
       "      <th>542</th>\n",
       "      <td>68</td>\n",
       "      <td>25.88</td>\n",
       "      <td>210</td>\n",
       "      <td>100</td>\n",
       "      <td>2</td>\n",
       "      <td>4</td>\n",
       "      <td>6.5</td>\n",
       "      <td>6.7</td>\n",
       "      <td>4.99</td>\n",
       "      <td>9.45</td>\n",
       "      <td>*</td>\n",
       "      <td>0.67</td>\n",
       "      <td>4.37</td>\n",
       "      <td>18.89</td>\n",
       "      <td>1</td>\n",
       "    </tr>\n",
       "    <tr>\n",
       "      <th>543</th>\n",
       "      <td>59</td>\n",
       "      <td>19.97</td>\n",
       "      <td>180</td>\n",
       "      <td>100</td>\n",
       "      <td>4</td>\n",
       "      <td>6</td>\n",
       "      <td>11.2</td>\n",
       "      <td>1.7</td>\n",
       "      <td>8.74</td>\n",
       "      <td>13.25</td>\n",
       "      <td>1.49</td>\n",
       "      <td>1.79</td>\n",
       "      <td>8.07</td>\n",
       "      <td>7.28</td>\n",
       "      <td>1</td>\n",
       "    </tr>\n",
       "    <tr>\n",
       "      <th>544</th>\n",
       "      <td>50</td>\n",
       "      <td>18.89</td>\n",
       "      <td>180</td>\n",
       "      <td>100</td>\n",
       "      <td>3</td>\n",
       "      <td>7</td>\n",
       "      <td>*</td>\n",
       "      <td>*</td>\n",
       "      <td>4.16</td>\n",
       "      <td>9.75</td>\n",
       "      <td>*</td>\n",
       "      <td>0.01</td>\n",
       "      <td>4.86</td>\n",
       "      <td>3.64</td>\n",
       "      <td>1</td>\n",
       "    </tr>\n",
       "  </tbody>\n",
       "</table>\n",
       "<p>545 rows × 15 columns</p>\n",
       "</div>"
      ],
      "text/plain": [
       "     나이    BMI 수술시간(min) 출혈량(mL) GAS OUT SD start 병변1 크기(Cm) margin(d)  \\\n",
       "0    53  17.11       180      80       3        4       10.4       1.3   \n",
       "1    62  24.01       180      80       2        5        2.3       9.6   \n",
       "2    70   29.7       180      50       2        5        1.5      14.8   \n",
       "3    72  25.06       180     100       4       14        1.5      13.1   \n",
       "4    53  27.88       180      50       3        4        1.2      11.6   \n",
       "..   ..    ...       ...     ...     ...      ...        ...       ...   \n",
       "540  68   24.6       210     100       2        4          3       9.5   \n",
       "541  63  21.49       150      50       4        4        3.5       9.8   \n",
       "542  68  25.88       210     100       2        4        6.5       6.7   \n",
       "543  59  19.97       180     100       4        6       11.2       1.7   \n",
       "544  50  18.89       180     100       3        7          *         *   \n",
       "\n",
       "     WBC_Pre WBC_Post CRP_Pre CRP_Post WBCmean CRPmean 위암병소수  \n",
       "0       6.39    10.37    0.06     0.03    6.26    5.44     1  \n",
       "1       6.07    16.72    0.02     0.02    7.99    5.06     1  \n",
       "2       6.11    12.34       *     0.15    8.43   10.18     1  \n",
       "3       6.59     6.01    1.34     3.77    7.52   16.45     2  \n",
       "4      10.14    17.72       *     0.21    9.45   10.54     2  \n",
       "..       ...      ...     ...      ...     ...     ...   ...  \n",
       "540     5.83     14.6       *     0.52    6.01   22.63     1  \n",
       "541     8.22    15.24       *     0.12   10.08    8.43     1  \n",
       "542     4.99     9.45       *     0.67    4.37   18.89     1  \n",
       "543     8.74    13.25    1.49     1.79    8.07    7.28     1  \n",
       "544     4.16     9.75       *     0.01    4.86    3.64     1  \n",
       "\n",
       "[545 rows x 15 columns]"
      ]
     },
     "execution_count": 12,
     "metadata": {},
     "output_type": "execute_result"
    }
   ],
   "source": [
    "numericColumns"
   ]
  },
  {
   "cell_type": "code",
   "execution_count": 13,
   "metadata": {},
   "outputs": [],
   "source": [
    "#categorical columns\n",
    "\n",
    "categoricalColumns = (train_data.iloc[:,[2]] #gender\n",
    "                        .join(train_data.iloc[:,[10]]) #smoking\n",
    "                        .join(train_data.iloc[:,[11]]) #가족암병력\n",
    "                        .join(train_data.iloc[:,38:42]) #정규/응급\t수술명\t개복전환\t문합법\n",
    "                        .join(train_data.iloc[:,44:51]) #합병절제\tadhesion\tinvasion\tradicality\tLN dissection\t혈관변이\t수혈\n",
    "                        .join(train_data.iloc[:,54:58]) #병변1 AGC 분류\t병변1 EGC 분류\t병변1 tubular\t병변1 circular\n",
    "                        .join(train_data.iloc[:,[73]]) #Stage\n",
    "                        \n",
    "\n",
    "\n",
    ")"
   ]
  },
  {
   "cell_type": "code",
   "execution_count": 14,
   "metadata": {},
   "outputs": [
    {
     "data": {
      "text/html": [
       "<div>\n",
       "<style scoped>\n",
       "    .dataframe tbody tr th:only-of-type {\n",
       "        vertical-align: middle;\n",
       "    }\n",
       "\n",
       "    .dataframe tbody tr th {\n",
       "        vertical-align: top;\n",
       "    }\n",
       "\n",
       "    .dataframe thead th {\n",
       "        text-align: right;\n",
       "    }\n",
       "</style>\n",
       "<table border=\"1\" class=\"dataframe\">\n",
       "  <thead>\n",
       "    <tr style=\"text-align: right;\">\n",
       "      <th></th>\n",
       "      <th>성별</th>\n",
       "      <th>smoking</th>\n",
       "      <th>가족암병력</th>\n",
       "      <th>정규/응급</th>\n",
       "      <th>수술명</th>\n",
       "      <th>개복전환</th>\n",
       "      <th>문합법</th>\n",
       "      <th>합병절제</th>\n",
       "      <th>adhesion</th>\n",
       "      <th>invasion</th>\n",
       "      <th>radicality</th>\n",
       "      <th>LN dissection</th>\n",
       "      <th>혈관변이</th>\n",
       "      <th>수혈</th>\n",
       "      <th>병변1 AGC 분류</th>\n",
       "      <th>병변1 EGC 분류</th>\n",
       "      <th>병변1 tubular</th>\n",
       "      <th>병변1 circular</th>\n",
       "      <th>Stage</th>\n",
       "    </tr>\n",
       "  </thead>\n",
       "  <tbody>\n",
       "    <tr>\n",
       "      <th>0</th>\n",
       "      <td>1</td>\n",
       "      <td>0</td>\n",
       "      <td>0</td>\n",
       "      <td>0</td>\n",
       "      <td>4</td>\n",
       "      <td>0</td>\n",
       "      <td>1</td>\n",
       "      <td>0</td>\n",
       "      <td>1</td>\n",
       "      <td>1</td>\n",
       "      <td>0</td>\n",
       "      <td>4</td>\n",
       "      <td>0</td>\n",
       "      <td>0</td>\n",
       "      <td>3</td>\n",
       "      <td>*</td>\n",
       "      <td>0</td>\n",
       "      <td>2</td>\n",
       "      <td>4</td>\n",
       "    </tr>\n",
       "    <tr>\n",
       "      <th>1</th>\n",
       "      <td>1</td>\n",
       "      <td>0</td>\n",
       "      <td>1</td>\n",
       "      <td>0</td>\n",
       "      <td>0</td>\n",
       "      <td>1</td>\n",
       "      <td>1</td>\n",
       "      <td>0</td>\n",
       "      <td>1</td>\n",
       "      <td>1</td>\n",
       "      <td>0</td>\n",
       "      <td>4</td>\n",
       "      <td>0</td>\n",
       "      <td>0</td>\n",
       "      <td>*</td>\n",
       "      <td>3</td>\n",
       "      <td>3</td>\n",
       "      <td>2</td>\n",
       "      <td>1</td>\n",
       "    </tr>\n",
       "    <tr>\n",
       "      <th>2</th>\n",
       "      <td>0</td>\n",
       "      <td>0</td>\n",
       "      <td>0</td>\n",
       "      <td>0</td>\n",
       "      <td>9</td>\n",
       "      <td>1</td>\n",
       "      <td>3</td>\n",
       "      <td>0</td>\n",
       "      <td>1</td>\n",
       "      <td>1</td>\n",
       "      <td>0</td>\n",
       "      <td>2</td>\n",
       "      <td>0</td>\n",
       "      <td>0</td>\n",
       "      <td>*</td>\n",
       "      <td>4</td>\n",
       "      <td>2</td>\n",
       "      <td>2</td>\n",
       "      <td>1</td>\n",
       "    </tr>\n",
       "    <tr>\n",
       "      <th>3</th>\n",
       "      <td>1</td>\n",
       "      <td>0</td>\n",
       "      <td>0</td>\n",
       "      <td>0</td>\n",
       "      <td>5</td>\n",
       "      <td>0</td>\n",
       "      <td>4</td>\n",
       "      <td>0</td>\n",
       "      <td>1</td>\n",
       "      <td>1</td>\n",
       "      <td>0</td>\n",
       "      <td>4</td>\n",
       "      <td>0</td>\n",
       "      <td>0</td>\n",
       "      <td>*</td>\n",
       "      <td>2</td>\n",
       "      <td>1</td>\n",
       "      <td>0</td>\n",
       "      <td>1</td>\n",
       "    </tr>\n",
       "    <tr>\n",
       "      <th>4</th>\n",
       "      <td>1</td>\n",
       "      <td>0</td>\n",
       "      <td>0</td>\n",
       "      <td>0</td>\n",
       "      <td>1</td>\n",
       "      <td>2</td>\n",
       "      <td>4</td>\n",
       "      <td>0</td>\n",
       "      <td>1</td>\n",
       "      <td>1</td>\n",
       "      <td>0</td>\n",
       "      <td>4</td>\n",
       "      <td>0</td>\n",
       "      <td>0</td>\n",
       "      <td>*</td>\n",
       "      <td>4</td>\n",
       "      <td>1</td>\n",
       "      <td>3</td>\n",
       "      <td>1</td>\n",
       "    </tr>\n",
       "    <tr>\n",
       "      <th>...</th>\n",
       "      <td>...</td>\n",
       "      <td>...</td>\n",
       "      <td>...</td>\n",
       "      <td>...</td>\n",
       "      <td>...</td>\n",
       "      <td>...</td>\n",
       "      <td>...</td>\n",
       "      <td>...</td>\n",
       "      <td>...</td>\n",
       "      <td>...</td>\n",
       "      <td>...</td>\n",
       "      <td>...</td>\n",
       "      <td>...</td>\n",
       "      <td>...</td>\n",
       "      <td>...</td>\n",
       "      <td>...</td>\n",
       "      <td>...</td>\n",
       "      <td>...</td>\n",
       "      <td>...</td>\n",
       "    </tr>\n",
       "    <tr>\n",
       "      <th>540</th>\n",
       "      <td>1</td>\n",
       "      <td>1</td>\n",
       "      <td>0</td>\n",
       "      <td>0</td>\n",
       "      <td>0</td>\n",
       "      <td>1</td>\n",
       "      <td>3</td>\n",
       "      <td>0</td>\n",
       "      <td>1</td>\n",
       "      <td>1</td>\n",
       "      <td>0</td>\n",
       "      <td>4</td>\n",
       "      <td>*</td>\n",
       "      <td>0</td>\n",
       "      <td>*</td>\n",
       "      <td>2</td>\n",
       "      <td>1</td>\n",
       "      <td>0</td>\n",
       "      <td>1</td>\n",
       "    </tr>\n",
       "    <tr>\n",
       "      <th>541</th>\n",
       "      <td>0</td>\n",
       "      <td>0</td>\n",
       "      <td>0</td>\n",
       "      <td>0</td>\n",
       "      <td>0</td>\n",
       "      <td>1</td>\n",
       "      <td>3</td>\n",
       "      <td>0</td>\n",
       "      <td>1</td>\n",
       "      <td>1</td>\n",
       "      <td>0</td>\n",
       "      <td>4</td>\n",
       "      <td>*</td>\n",
       "      <td>0</td>\n",
       "      <td>*</td>\n",
       "      <td>4</td>\n",
       "      <td>1</td>\n",
       "      <td>0</td>\n",
       "      <td>2</td>\n",
       "    </tr>\n",
       "    <tr>\n",
       "      <th>542</th>\n",
       "      <td>1</td>\n",
       "      <td>0</td>\n",
       "      <td>0</td>\n",
       "      <td>0</td>\n",
       "      <td>0</td>\n",
       "      <td>1</td>\n",
       "      <td>3</td>\n",
       "      <td>0</td>\n",
       "      <td>1</td>\n",
       "      <td>1</td>\n",
       "      <td>0</td>\n",
       "      <td>4</td>\n",
       "      <td>*</td>\n",
       "      <td>0</td>\n",
       "      <td>*</td>\n",
       "      <td>4</td>\n",
       "      <td>1</td>\n",
       "      <td>3</td>\n",
       "      <td>1</td>\n",
       "    </tr>\n",
       "    <tr>\n",
       "      <th>543</th>\n",
       "      <td>0</td>\n",
       "      <td>0</td>\n",
       "      <td>0</td>\n",
       "      <td>0</td>\n",
       "      <td>4</td>\n",
       "      <td>0</td>\n",
       "      <td>3</td>\n",
       "      <td>0</td>\n",
       "      <td>1</td>\n",
       "      <td>1</td>\n",
       "      <td>0</td>\n",
       "      <td>4</td>\n",
       "      <td>*</td>\n",
       "      <td>0</td>\n",
       "      <td>3</td>\n",
       "      <td>*</td>\n",
       "      <td>2</td>\n",
       "      <td>0</td>\n",
       "      <td>3</td>\n",
       "    </tr>\n",
       "    <tr>\n",
       "      <th>544</th>\n",
       "      <td>0</td>\n",
       "      <td>0</td>\n",
       "      <td>0</td>\n",
       "      <td>0</td>\n",
       "      <td>5</td>\n",
       "      <td>0</td>\n",
       "      <td>4</td>\n",
       "      <td>0</td>\n",
       "      <td>1</td>\n",
       "      <td>1</td>\n",
       "      <td>0</td>\n",
       "      <td>4</td>\n",
       "      <td>*</td>\n",
       "      <td>0</td>\n",
       "      <td>*</td>\n",
       "      <td>*</td>\n",
       "      <td>*</td>\n",
       "      <td>0</td>\n",
       "      <td>1</td>\n",
       "    </tr>\n",
       "  </tbody>\n",
       "</table>\n",
       "<p>545 rows × 19 columns</p>\n",
       "</div>"
      ],
      "text/plain": [
       "     성별 smoking 가족암병력 정규/응급 수술명 개복전환 문합법 합병절제                    adhesion  \\\n",
       "0     1       0     0     0   4    0   1                       0        1   \n",
       "1     1       0     1     0   0    1   1                       0        1   \n",
       "2     0       0     0     0   9    1   3                       0        1   \n",
       "3     1       0     0     0   5    0   4                       0        1   \n",
       "4     1       0     0     0   1    2   4                       0        1   \n",
       "..   ..     ...   ...   ...  ..  ...  ..                     ...      ...   \n",
       "540   1       1     0     0   0    1   3                       0        1   \n",
       "541   0       0     0     0   0    1   3                       0        1   \n",
       "542   1       0     0     0   0    1   3                       0        1   \n",
       "543   0       0     0     0   4    0   3                       0        1   \n",
       "544   0       0     0     0   5    0   4                       0        1   \n",
       "\n",
       "    invasion radicality LN dissection  혈관변이 수혈 병변1 AGC 분류 병변1 EGC 분류  \\\n",
       "0          1          0              4    0  0          3          *   \n",
       "1          1          0              4    0  0          *          3   \n",
       "2          1          0              2    0  0          *          4   \n",
       "3          1          0              4    0  0          *          2   \n",
       "4          1          0              4    0  0          *          4   \n",
       "..       ...        ...            ...  ... ..        ...        ...   \n",
       "540        1          0              4    *  0          *          2   \n",
       "541        1          0              4    *  0          *          4   \n",
       "542        1          0              4    *  0          *          4   \n",
       "543        1          0              4    *  0          3          *   \n",
       "544        1          0              4    *  0          *          *   \n",
       "\n",
       "    병변1 tubular 병변1 circular Stage  \n",
       "0             0            2     4  \n",
       "1             3            2     1  \n",
       "2             2            2     1  \n",
       "3             1            0     1  \n",
       "4             1            3     1  \n",
       "..          ...          ...   ...  \n",
       "540           1            0     1  \n",
       "541           1            0     2  \n",
       "542           1            3     1  \n",
       "543           2            0     3  \n",
       "544           *            0     1  \n",
       "\n",
       "[545 rows x 19 columns]"
      ]
     },
     "execution_count": 14,
     "metadata": {},
     "output_type": "execute_result"
    }
   ],
   "source": [
    "categoricalColumns"
   ]
  },
  {
   "cell_type": "code",
   "execution_count": 15,
   "metadata": {},
   "outputs": [],
   "source": [
    "#margin(d) is at 70. USeful columns?\n",
    "#train1 = train_data.iloc[:,[2,3,9,10,11,38,39,40,41,42,43,44,45,46,47,48,49,50,51,52,51,54,55,56,57,58,70,71,73,74,75,84,85]] \n"
   ]
  },
  {
   "cell_type": "code",
   "execution_count": 16,
   "metadata": {},
   "outputs": [
    {
     "data": {
      "text/plain": [
       "나이              0\n",
       "BMI             8\n",
       "수술시간(min)      20\n",
       "출혈량(mL)        14\n",
       "GAS OUT        19\n",
       "SD start       20\n",
       "병변1 크기(Cm)     33\n",
       "margin(d)      30\n",
       "WBC_Pre         0\n",
       "WBC_Post        7\n",
       "CRP_Pre       408\n",
       "CRP_Post       19\n",
       "WBCmean         0\n",
       "CRPmean         0\n",
       "위암병소수          24\n",
       "dtype: int64"
      ]
     },
     "execution_count": 16,
     "metadata": {},
     "output_type": "execute_result"
    }
   ],
   "source": [
    "#count * (which means missing value) in each column\n",
    "numericColumns.isin(['*']).sum()"
   ]
  },
  {
   "cell_type": "code",
   "execution_count": 17,
   "metadata": {},
   "outputs": [
    {
     "data": {
      "text/plain": [
       "성별                           0\n",
       "smoking                      5\n",
       "가족암병력                        9\n",
       "정규/응급                        9\n",
       "수술명                          7\n",
       "개복전환                        12\n",
       "문합법                         29\n",
       "합병절제                        23\n",
       "adhesion                    16\n",
       "invasion                    17\n",
       "radicality                  30\n",
       "LN dissection               30\n",
       "혈관변이                       135\n",
       "수혈                          12\n",
       "병변1 AGC 분류                 369\n",
       "병변1 EGC 분류                 192\n",
       "병변1 tubular                 33\n",
       "병변1 circular                44\n",
       "Stage                       25\n",
       "dtype: int64"
      ]
     },
     "execution_count": 17,
     "metadata": {},
     "output_type": "execute_result"
    }
   ],
   "source": [
    "categoricalColumns.isin(['*']).sum()"
   ]
  },
  {
   "cell_type": "code",
   "execution_count": 18,
   "metadata": {},
   "outputs": [
    {
     "data": {
      "text/plain": [
       "545"
      ]
     },
     "execution_count": 18,
     "metadata": {},
     "output_type": "execute_result"
    }
   ],
   "source": [
    "numericColumns.shape[0]"
   ]
  },
  {
   "cell_type": "code",
   "execution_count": 19,
   "metadata": {},
   "outputs": [],
   "source": [
    "#missed 135, 369, and 192 repectively, out of 545, so drop them\n",
    "categoricalColumns_new = categoricalColumns.drop(['혈관변이','병변1 AGC 분류','병변1 EGC 분류'], axis=1)"
   ]
  },
  {
   "cell_type": "code",
   "execution_count": 20,
   "metadata": {},
   "outputs": [],
   "source": [
    "numericColumns_new = numericColumns.drop('CRP_Pre', axis=1)"
   ]
  },
  {
   "cell_type": "code",
   "execution_count": 21,
   "metadata": {},
   "outputs": [],
   "source": [
    "#concat both with DSL and onset\n",
    "numericColumns_with_result = pd.concat([numericColumns_new,train_data.iloc[:,[-2,-1]]],axis=1)\n",
    "categoricalColumns_new_with_result = pd.concat([categoricalColumns_new,train_data.iloc[:,[-2,-1]]],axis=1)"
   ]
  },
  {
   "cell_type": "code",
   "execution_count": 22,
   "metadata": {},
   "outputs": [],
   "source": [
    "#concat numericColumns_with_result and categoricalColumns_new_with_result\n",
    "train_data_new = pd.concat([numericColumns_with_result,categoricalColumns_new_with_result],axis=1)"
   ]
  },
  {
   "cell_type": "code",
   "execution_count": 23,
   "metadata": {},
   "outputs": [],
   "source": [
    "#make the last 2 columns a new dataframe\n",
    "result = train_data_new.iloc[:,-2:]\n"
   ]
  },
  {
   "cell_type": "code",
   "execution_count": 24,
   "metadata": {},
   "outputs": [],
   "source": [
    "# convert train_data_new to float type and drop the last 2 columns\n",
    "train_data_new = train_data_new.drop(train_data_new.iloc[:,-2:],axis=1)"
   ]
  },
  {
   "cell_type": "code",
   "execution_count": 25,
   "metadata": {},
   "outputs": [],
   "source": [
    "#replace * with NaN\n",
    "\n",
    "train_data_new.replace(to_replace='*',value = np.nan, inplace = True)\n",
    "\n"
   ]
  },
  {
   "cell_type": "code",
   "execution_count": 26,
   "metadata": {},
   "outputs": [],
   "source": [
    "#keep the 1st number before ','\n",
    "train_data_new = train_data_new.apply(lambda x: x.str.split(',').str[0] if x.dtype == \"object\" else x)\n"
   ]
  },
  {
   "cell_type": "code",
   "execution_count": 27,
   "metadata": {},
   "outputs": [],
   "source": [
    "#drop DSL and onset\n",
    "train_data_new = train_data_new.drop(train_data_new.iloc[:,-2:],axis=1)"
   ]
  },
  {
   "cell_type": "code",
   "execution_count": 28,
   "metadata": {},
   "outputs": [
    {
     "name": "stdout",
     "output_type": "stream",
     "text": [
      "Imputing row 1/545 with 4 missing, elapsed time: 0.053\n",
      "Imputing row 101/545 with 4 missing, elapsed time: 0.058\n",
      "Imputing row 201/545 with 4 missing, elapsed time: 0.062\n",
      "Imputing row 301/545 with 4 missing, elapsed time: 0.067\n",
      "Imputing row 401/545 with 4 missing, elapsed time: 0.071\n",
      "Imputing row 501/545 with 4 missing, elapsed time: 0.076\n"
     ]
    }
   ],
   "source": [
    "#fill missing values by knn \n",
    "from fancyimpute import KNN\n",
    "train_data_new_filled = pd.DataFrame(KNN(k=10).fit_transform(train_data_new))\n",
    "\n"
   ]
  },
  {
   "cell_type": "code",
   "execution_count": 29,
   "metadata": {},
   "outputs": [],
   "source": [
    "#fill missing values by SimpleFill\n",
    "#from fancyimpute import SimpleFill\n",
    "#train_data_new_filled = pd.DataFrame(SimpleFill().fit_transform(train_data_new))"
   ]
  },
  {
   "cell_type": "code",
   "execution_count": 30,
   "metadata": {},
   "outputs": [],
   "source": [
    "# make the last 2 columns of train_data_new_filled a new dataframe\n",
    "result_filled = train_data_new_filled.iloc[:,-2:]"
   ]
  },
  {
   "cell_type": "code",
   "execution_count": 31,
   "metadata": {},
   "outputs": [],
   "source": [
    "#drop the last 2 columns of train_data_new_filled\n",
    "train_data_new_filled = train_data_new_filled.drop(train_data_new_filled.iloc[:,-2:],axis=1)\n"
   ]
  },
  {
   "cell_type": "code",
   "execution_count": 32,
   "metadata": {
    "collapsed": false,
    "jupyter": {
     "outputs_hidden": false
    }
   },
   "outputs": [
    {
     "ename": "ValueError",
     "evalue": "Length mismatch: Expected axis has 26 elements, new values have 28 elements",
     "output_type": "error",
     "traceback": [
      "\u001b[0;31m---------------------------------------------------------------------------\u001b[0m",
      "\u001b[0;31mValueError\u001b[0m                                Traceback (most recent call last)",
      "\u001b[0;32m<ipython-input-32-81e6385f8ebe>\u001b[0m in \u001b[0;36m<module>\u001b[0;34m\u001b[0m\n\u001b[1;32m      1\u001b[0m \u001b[0;31m#replace the column name of train_data_new_filled.columns[0:-2] with train_data_new.columns\u001b[0m\u001b[0;34m\u001b[0m\u001b[0;34m\u001b[0m\u001b[0;34m\u001b[0m\u001b[0m\n\u001b[0;32m----> 2\u001b[0;31m \u001b[0mtrain_data_new_filled\u001b[0m\u001b[0;34m.\u001b[0m\u001b[0mcolumns\u001b[0m \u001b[0;34m=\u001b[0m \u001b[0mtrain_data_new\u001b[0m\u001b[0;34m.\u001b[0m\u001b[0mcolumns\u001b[0m\u001b[0;34m\u001b[0m\u001b[0;34m\u001b[0m\u001b[0m\n\u001b[0m",
      "\u001b[0;32m/opt/anaconda3/envs/hyudl21/lib/python3.8/site-packages/pandas/core/generic.py\u001b[0m in \u001b[0;36m__setattr__\u001b[0;34m(self, name, value)\u001b[0m\n\u001b[1;32m   5476\u001b[0m         \u001b[0;32mtry\u001b[0m\u001b[0;34m:\u001b[0m\u001b[0;34m\u001b[0m\u001b[0;34m\u001b[0m\u001b[0m\n\u001b[1;32m   5477\u001b[0m             \u001b[0mobject\u001b[0m\u001b[0;34m.\u001b[0m\u001b[0m__getattribute__\u001b[0m\u001b[0;34m(\u001b[0m\u001b[0mself\u001b[0m\u001b[0;34m,\u001b[0m \u001b[0mname\u001b[0m\u001b[0;34m)\u001b[0m\u001b[0;34m\u001b[0m\u001b[0;34m\u001b[0m\u001b[0m\n\u001b[0;32m-> 5478\u001b[0;31m             \u001b[0;32mreturn\u001b[0m \u001b[0mobject\u001b[0m\u001b[0;34m.\u001b[0m\u001b[0m__setattr__\u001b[0m\u001b[0;34m(\u001b[0m\u001b[0mself\u001b[0m\u001b[0;34m,\u001b[0m \u001b[0mname\u001b[0m\u001b[0;34m,\u001b[0m \u001b[0mvalue\u001b[0m\u001b[0;34m)\u001b[0m\u001b[0;34m\u001b[0m\u001b[0;34m\u001b[0m\u001b[0m\n\u001b[0m\u001b[1;32m   5479\u001b[0m         \u001b[0;32mexcept\u001b[0m \u001b[0mAttributeError\u001b[0m\u001b[0;34m:\u001b[0m\u001b[0;34m\u001b[0m\u001b[0;34m\u001b[0m\u001b[0m\n\u001b[1;32m   5480\u001b[0m             \u001b[0;32mpass\u001b[0m\u001b[0;34m\u001b[0m\u001b[0;34m\u001b[0m\u001b[0m\n",
      "\u001b[0;32mpandas/_libs/properties.pyx\u001b[0m in \u001b[0;36mpandas._libs.properties.AxisProperty.__set__\u001b[0;34m()\u001b[0m\n",
      "\u001b[0;32m/opt/anaconda3/envs/hyudl21/lib/python3.8/site-packages/pandas/core/generic.py\u001b[0m in \u001b[0;36m_set_axis\u001b[0;34m(self, axis, labels)\u001b[0m\n\u001b[1;32m    668\u001b[0m     \u001b[0;32mdef\u001b[0m \u001b[0m_set_axis\u001b[0m\u001b[0;34m(\u001b[0m\u001b[0mself\u001b[0m\u001b[0;34m,\u001b[0m \u001b[0maxis\u001b[0m\u001b[0;34m:\u001b[0m \u001b[0mint\u001b[0m\u001b[0;34m,\u001b[0m \u001b[0mlabels\u001b[0m\u001b[0;34m:\u001b[0m \u001b[0mIndex\u001b[0m\u001b[0;34m)\u001b[0m \u001b[0;34m->\u001b[0m \u001b[0;32mNone\u001b[0m\u001b[0;34m:\u001b[0m\u001b[0;34m\u001b[0m\u001b[0;34m\u001b[0m\u001b[0m\n\u001b[1;32m    669\u001b[0m         \u001b[0mlabels\u001b[0m \u001b[0;34m=\u001b[0m \u001b[0mensure_index\u001b[0m\u001b[0;34m(\u001b[0m\u001b[0mlabels\u001b[0m\u001b[0;34m)\u001b[0m\u001b[0;34m\u001b[0m\u001b[0;34m\u001b[0m\u001b[0m\n\u001b[0;32m--> 670\u001b[0;31m         \u001b[0mself\u001b[0m\u001b[0;34m.\u001b[0m\u001b[0m_mgr\u001b[0m\u001b[0;34m.\u001b[0m\u001b[0mset_axis\u001b[0m\u001b[0;34m(\u001b[0m\u001b[0maxis\u001b[0m\u001b[0;34m,\u001b[0m \u001b[0mlabels\u001b[0m\u001b[0;34m)\u001b[0m\u001b[0;34m\u001b[0m\u001b[0;34m\u001b[0m\u001b[0m\n\u001b[0m\u001b[1;32m    671\u001b[0m         \u001b[0mself\u001b[0m\u001b[0;34m.\u001b[0m\u001b[0m_clear_item_cache\u001b[0m\u001b[0;34m(\u001b[0m\u001b[0;34m)\u001b[0m\u001b[0;34m\u001b[0m\u001b[0;34m\u001b[0m\u001b[0m\n\u001b[1;32m    672\u001b[0m \u001b[0;34m\u001b[0m\u001b[0m\n",
      "\u001b[0;32m/opt/anaconda3/envs/hyudl21/lib/python3.8/site-packages/pandas/core/internals/managers.py\u001b[0m in \u001b[0;36mset_axis\u001b[0;34m(self, axis, new_labels)\u001b[0m\n\u001b[1;32m    218\u001b[0m \u001b[0;34m\u001b[0m\u001b[0m\n\u001b[1;32m    219\u001b[0m         \u001b[0;32mif\u001b[0m \u001b[0mnew_len\u001b[0m \u001b[0;34m!=\u001b[0m \u001b[0mold_len\u001b[0m\u001b[0;34m:\u001b[0m\u001b[0;34m\u001b[0m\u001b[0;34m\u001b[0m\u001b[0m\n\u001b[0;32m--> 220\u001b[0;31m             raise ValueError(\n\u001b[0m\u001b[1;32m    221\u001b[0m                 \u001b[0;34mf\"Length mismatch: Expected axis has {old_len} elements, new \"\u001b[0m\u001b[0;34m\u001b[0m\u001b[0;34m\u001b[0m\u001b[0m\n\u001b[1;32m    222\u001b[0m                 \u001b[0;34mf\"values have {new_len} elements\"\u001b[0m\u001b[0;34m\u001b[0m\u001b[0;34m\u001b[0m\u001b[0m\n",
      "\u001b[0;31mValueError\u001b[0m: Length mismatch: Expected axis has 26 elements, new values have 28 elements"
     ]
    }
   ],
   "source": [
    "#replace the column name of train_data_new_filled.columns[0:-2] with train_data_new.columns\n",
    "train_data_new_filled.columns = train_data_new.columns"
   ]
  },
  {
   "cell_type": "code",
   "execution_count": null,
   "metadata": {
    "collapsed": false,
    "jupyter": {
     "outputs_hidden": false
    }
   },
   "outputs": [],
   "source": [
    "#concat train_data_new_filled and result\n",
    "train_data_new_filled = pd.concat([train_data_new_filled,result_filled],axis=1)"
   ]
  },
  {
   "cell_type": "code",
   "execution_count": null,
   "metadata": {},
   "outputs": [],
   "source": [
    "#replace * with 0 in DSL and onser \n",
    "train_data_new_filled['DSL'].replace(to_replace='*',value = 0, inplace = True)\n",
    "train_data_new_filled['onset'].replace(to_replace='*',value = 0, inplace = True)\n"
   ]
  },
  {
   "cell_type": "code",
   "execution_count": null,
   "metadata": {},
   "outputs": [],
   "source": [
    "#export the data to csv\n",
    "train_data_new_filled.to_csv('train_data_new_filled_5_Dec.csv',index=False)\n",
    "#export the data to XLSX\n",
    "train_data_new_filled.to_excel('train_data_new_filled_5_Dec.xlsx',index=False)\n",
    "\n"
   ]
  },
  {
   "cell_type": "markdown",
   "metadata": {},
   "source": [
    "## Then let's start processing test data as what we did to train data\n"
   ]
  },
  {
   "cell_type": "code",
   "execution_count": null,
   "metadata": {},
   "outputs": [],
   "source": [
    "test_data.replace(to_replace=np.nan,value = '*', inplace = True)\n"
   ]
  },
  {
   "cell_type": "code",
   "execution_count": null,
   "metadata": {},
   "outputs": [],
   "source": [
    "\n",
    "#Process margin(d) in test, get the 1st number if there is '/'\n",
    "DFmargind_test= pd.DataFrame(test_data['margin(d)'])\n",
    "\n",
    "i = 0\n",
    "for i in range(0,DFmargind_test.shape[0]):\n",
    "    if '/' in str(DFmargind_test.iloc[i,0]):\n",
    "        DFmargind_test.iloc[i,0] = str(DFmargind_test.iloc[i,0]).split('/')[0]\n",
    "    else:\n",
    "        continue"
   ]
  },
  {
   "cell_type": "code",
   "execution_count": null,
   "metadata": {},
   "outputs": [],
   "source": [
    "#Process WBC pod1 to pod 5, get mean\n",
    "DFWBC_test= pd.DataFrame(test_data[['WBC_POD#1','WBC_POD#2','WBC_POD#3','WBC_POD#5']])"
   ]
  },
  {
   "cell_type": "code",
   "execution_count": null,
   "metadata": {},
   "outputs": [],
   "source": [
    "#Replace '*' with 0\n",
    "DFWBC_test.replace(to_replace='*',value = 0, inplace = True)"
   ]
  },
  {
   "cell_type": "code",
   "execution_count": null,
   "metadata": {},
   "outputs": [],
   "source": [
    "df_temp2 = pd.DataFrame(columns = ['WBCzeronumber_test','WBCmean_test'],index = range(0,DFWBC_test.shape[0]))\n"
   ]
  },
  {
   "cell_type": "code",
   "execution_count": null,
   "metadata": {},
   "outputs": [],
   "source": [
    "#Get \"0\"numbers in each row of WBC_test and fill it in the temp\n",
    "i = j = count = 0\n",
    "for i in range(0,DFWBC_test.shape[0]):\n",
    "    for j in range(0,DFWBC_test.shape[1]):\n",
    "        if DFWBC_test.iloc[i,j] == 0:\n",
    "            count = count + 1\n",
    "        else:\n",
    "            continue\n",
    "    df_temp2.iloc[i,0] = count\n",
    "    count = 0\n",
    "        "
   ]
  },
  {
   "cell_type": "code",
   "execution_count": null,
   "metadata": {},
   "outputs": [],
   "source": [
    "#sum WBC_test each row and fill it in the temp2\n",
    "i = j = sum = mean = 0\n",
    "for i in range(0,DFWBC_test.shape[0]):\n",
    "    for j in range(0,DFWBC_test.shape[1]):\n",
    "        sum = sum + DFWBC_test.iloc[i,j]\n",
    "        mean = sum/(DFWBC_test.shape[1]-df_temp.iloc[i,0])\n",
    "    df_temp2.iloc[i,1] = \"%.2f\"%mean\n",
    "    sum = 0\n",
    "    mean = 0"
   ]
  },
  {
   "cell_type": "code",
   "execution_count": null,
   "metadata": {},
   "outputs": [],
   "source": [
    "#Process CRP_POD#1 to CRP_POD#5, for getting mean\n",
    "DFCRP_test = pd.DataFrame(test_data[['CRP_POD#1','CRP_POD#2','CRP_POD#3','CRP_POD#5']])\n",
    "\n",
    "#Replace '*' with 0\n",
    "DFCRP_test.replace(to_replace='*',value = 0, inplace = True)\n",
    "\n",
    "df_temp3 = pd.DataFrame(columns = ['CRPzeronumber_test','CRPmean_test'],index = range(0,DFWBC.shape[0]))\n",
    "\n",
    "#Get \"0\"numbers in each row of WBC and fill it in the temp\n",
    "i = j = count = 0\n",
    "for i in range(0,DFCRP_test.shape[0]):\n",
    "    for j in range(0,DFCRP_test.shape[1]):\n",
    "        if DFCRP_test.iloc[i,j] == 0:\n",
    "            count = count + 1\n",
    "        else:\n",
    "            continue\n",
    "    df_temp3.iloc[i,0] = count\n",
    "    count = 0\n",
    "        \n",
    "#sum WBC each row and fill it in the temp\n",
    "i = j = sum = mean = 0\n",
    "for i in range(0,DFCRP_test.shape[0]):\n",
    "    for j in range(0,DFCRP_test.shape[1]):\n",
    "        sum = sum + DFCRP_test.iloc[i,j]\n",
    "        mean = sum/(DFCRP_test.shape[1]-df_temp3.iloc[i,0])\n",
    "    df_temp3.iloc[i,1] = \"%.2f\"%mean\n",
    "    sum = 0\n",
    "    mean = 0"
   ]
  },
  {
   "cell_type": "code",
   "execution_count": null,
   "metadata": {},
   "outputs": [],
   "source": [
    "\n",
    "DFWBC_Pre_test = pd.DataFrame(test_data['WBC_Pre'])\n",
    "DFWBC_Post_test = pd.DataFrame(test_data['WBC_Post'])\n",
    "DFCRP_Pre_test = pd.DataFrame(test_data['CRP_Pre'])\n",
    "DFCRP_Post_test = pd.DataFrame(test_data['CRP_Post'])\n",
    "DF위암병소수_test = pd.DataFrame(test_data['위암병소수'])"
   ]
  },
  {
   "cell_type": "code",
   "execution_count": null,
   "metadata": {},
   "outputs": [],
   "source": [
    "#numerical columns\n",
    "numericColumns_test = (test_data.iloc[:,[3]] #age\n",
    "                    .join(test_data.iloc[:,[9]]) #BMI\n",
    "                    .join(test_data.iloc[:,42:44]) #수술시간(min) 출혈량(mL)\n",
    "                    .join(test_data.iloc[:,51:53]) #GAS OUT SD start\n",
    "                    .join(test_data.iloc[:,[58]]) #병변1 크기(Cm)\n",
    "                    .join(DFmargind_test) #margin(d) after being processed\n",
    "                    .join(DFWBC_Pre_test)\n",
    "                    .join(DFWBC_Post_test)\n",
    "                    .join(DFCRP_Pre_test)\n",
    "                    .join(DFCRP_Post_test)\n",
    "                    .join(df_temp2.iloc[:,[1]] ) #WBC mean after being processed\n",
    "                    .join(df_temp3.iloc[:,[1]] ) #CRP mean after being processed\n",
    "                    .join(DF위암병소수_test) #위암병소수\n",
    "\n",
    "                    )"
   ]
  },
  {
   "cell_type": "code",
   "execution_count": null,
   "metadata": {},
   "outputs": [],
   "source": [
    "#categorical columns\n",
    "\n",
    "categoricalColumns_test = (test_data.iloc[:,[2]] #gender\n",
    "                        .join(test_data.iloc[:,[10]]) #smoking\n",
    "                        .join(test_data.iloc[:,[11]]) #가족암병력\n",
    "                        .join(test_data.iloc[:,38:42]) #정규/응급\t수술명\t개복전환\t문합법\n",
    "                        .join(test_data.iloc[:,44:51]) #합병절제\tadhesion\tinvasion\tradicality\tLN dissection\t혈관변이\t수혈\n",
    "                        .join(test_data.iloc[:,54:58]) #\t병변1 AGC 분류\t병변1 EGC 분류\t병변1 tubular\t병변1 circular\n",
    "                        .join(test_data.iloc[:,[73]]) #Stage\n",
    "                        \n",
    ")"
   ]
  },
  {
   "cell_type": "code",
   "execution_count": null,
   "metadata": {},
   "outputs": [],
   "source": [
    "#drop coloumns what we dropped in train data"
   ]
  },
  {
   "cell_type": "code",
   "execution_count": null,
   "metadata": {},
   "outputs": [],
   "source": [
    "categoricalColumns_test_new = categoricalColumns_test.drop(['혈관변이','병변1 AGC 분류','병변1 EGC 분류'], axis=1)"
   ]
  },
  {
   "cell_type": "code",
   "execution_count": null,
   "metadata": {},
   "outputs": [],
   "source": [
    "numericColumns_test_new = numericColumns_test.drop('CRP_Pre', axis=1)"
   ]
  },
  {
   "cell_type": "code",
   "execution_count": null,
   "metadata": {},
   "outputs": [],
   "source": [
    "#drop margin(d)\n",
    "#numericColumns_test = numericColumns_test.drop(['margin(d)'],axis = 1)"
   ]
  },
  {
   "cell_type": "code",
   "execution_count": null,
   "metadata": {},
   "outputs": [],
   "source": [
    "#concat numericColumns_test and categoricalColumns_test\n",
    "test_data = pd.concat([numericColumns_test,categoricalColumns_test],axis = 1)"
   ]
  },
  {
   "cell_type": "code",
   "execution_count": null,
   "metadata": {},
   "outputs": [],
   "source": [
    "#concat both with DSL and onset\n",
    "numericColumns_test_new_with_result = pd.concat([numericColumns_test_new,test_data[\"DSL\"]]],axis=1)\n",
    "categoricalColumns_test_new_with_result = pd.concat([categoricalColumns_test_new,test_data[\"DSL\"]]],axis=1)"
   ]
  },
  {
   "cell_type": "code",
   "execution_count": null,
   "metadata": {},
   "outputs": [],
   "source": [
    "test_data_new = pd.concat([categoricalColumns_test_new,numericColumns_test_new,pd.read_excel(\"./test.xlsx\", engine='openpyxl')['DSL']],axis=1)"
   ]
  },
  {
   "cell_type": "code",
   "execution_count": null,
   "metadata": {},
   "outputs": [],
   "source": [
    "#convert * to nan\n",
    "test_data_new.replace(to_replace='*',value = np.nan, inplace = True)"
   ]
  },
  {
   "cell_type": "code",
   "execution_count": null,
   "metadata": {},
   "outputs": [],
   "source": [
    "test_data_new = test_data_new.apply(lambda x: x.str.split(',').str[0] if x.dtype == \"object\" else x)\n"
   ]
  },
  {
   "cell_type": "code",
   "execution_count": null,
   "metadata": {},
   "outputs": [],
   "source": [
    "# convert test_data_new to float type and drop the last column\n",
    "test_data_new = test_data_new.astype(float)\n",
    "test_data_new = test_data_new.drop(['DSL'],axis = 1)\n"
   ]
  },
  {
   "cell_type": "code",
   "execution_count": null,
   "metadata": {},
   "outputs": [],
   "source": [
    "#fill missing values by knn \n",
    "from fancyimpute import KNN\n",
    "test_data_newfilled = pd.DataFrame(KNN(k=10).fit_transform(test_data_new))\n",
    "\n"
   ]
  },
  {
   "cell_type": "code",
   "execution_count": null,
   "metadata": {},
   "outputs": [],
   "source": [
    "#fill missing values by SimpleFill\n",
    "#from fancyimpute import SimpleFill\n",
    "#test_data_new_filled = pd.DataFrame(SimpleFill().fit_transform(test_data_new))"
   ]
  },
  {
   "cell_type": "code",
   "execution_count": null,
   "metadata": {},
   "outputs": [],
   "source": [
    "#recover column names with test_data\n",
    "test_data_newfilled.columns = test_data_new.columns"
   ]
  },
  {
   "cell_type": "code",
   "execution_count": null,
   "metadata": {},
   "outputs": [],
   "source": [
    "#contact test_data_newfilled with DSL\n",
    "test_data_newfilled_with_result = pd.concat([test_data_newfilled,pd.read_excel(\"./test.xlsx\", engine='openpyxl')['DSL']],axis=1)"
   ]
  },
  {
   "cell_type": "code",
   "execution_count": null,
   "metadata": {},
   "outputs": [],
   "source": [
    "\n",
    "#export\n",
    "test_data_newfilled_with_result.to_excel('test_data_filled_5_Dec.xlsx',index = False)\n",
    "\n",
    "test_data_newfilled_with_result.to_csv('test_data_filled_5_Dec.csv',index = False)"
   ]
  },
  {
   "cell_type": "code",
   "execution_count": null,
   "metadata": {},
   "outputs": [],
   "source": []
  }
 ],
 "metadata": {
  "kernelspec": {
   "display_name": "Python 3",
   "language": "python",
   "name": "python3"
  },
  "language_info": {
   "codemirror_mode": {
    "name": "ipython",
    "version": 3
   },
   "file_extension": ".py",
   "mimetype": "text/x-python",
   "name": "python",
   "nbconvert_exporter": "python",
   "pygments_lexer": "ipython3",
   "version": "3.8.8"
  },
  "vscode": {
   "interpreter": {
    "hash": "40d3a090f54c6569ab1632332b64b2c03c39dcf918b08424e98f38b5ae0af88f"
   }
  }
 },
 "nbformat": 4,
 "nbformat_minor": 4
}
