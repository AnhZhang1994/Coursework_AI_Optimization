{
 "cells": [
  {
   "cell_type": "code",
   "execution_count": 2,
   "id": "ce90970d-07c8-495a-b695-1af680d11672",
   "metadata": {},
   "outputs": [],
   "source": [
    "# modules we'll use\n",
    "import pandas as pd\n",
    "import numpy as np\n",
    "from sklearn.linear_model import LogisticRegression\n",
    "from sklearn.preprocessing import StandardScaler\n",
    "from sklearn.ensemble import RandomForestClassifier\n",
    "from sklearn.decomposition import PCA"
   ]
  },
  {
   "cell_type": "code",
   "execution_count": 3,
   "id": "e1de97cd-fffb-4c0b-8692-e88f538211b8",
   "metadata": {},
   "outputs": [],
   "source": [
    "# data = pd.read_csv(\"./final_train.csv\")\n",
    "data = pd.read_csv(\"./train_data_new_filled_5_Dec.csv\")"
   ]
  },
  {
   "cell_type": "code",
   "execution_count": 4,
   "id": "864f8024-7f2c-441d-9455-d988b92f1f05",
   "metadata": {},
   "outputs": [],
   "source": [
    "label = data[['DSL']]"
   ]
  },
  {
   "cell_type": "code",
   "execution_count": 5,
   "id": "399a4439-6ef1-4b01-aec5-d3d5d6434cc6",
   "metadata": {},
   "outputs": [
    {
     "data": {
      "text/plain": [
       "Index(['나이', 'BMI', '수술시간(min)', '출혈량(mL)', 'GAS OUT', 'SD start',\n",
       "       '병변1 크기(Cm)', 'margin(d)', 'WBC_Pre', 'WBC_Post', 'CRP_Post', 'WBCmean',\n",
       "       'CRPmean', '위암병소수', '성별', 'smoking', '가족암병력', '정규/응급', '수술명', '개복전환',\n",
       "       '문합법', '합병절제', 'adhesion', 'invasion', 'radicality', 'LN dissection ',\n",
       "       '수혈', '병변1 tubular', '병변1 circular', 'Stage', 'DSL', 'onset'],\n",
       "      dtype='object')"
      ]
     },
     "execution_count": 5,
     "metadata": {},
     "output_type": "execute_result"
    }
   ],
   "source": [
    "data.columns"
   ]
  },
  {
   "cell_type": "code",
   "execution_count": 6,
   "id": "9b494bc0-ae1f-4328-b7e4-5d304dadb5df",
   "metadata": {},
   "outputs": [],
   "source": [
    "pca = PCA(n_components=1)\n",
    "for_pca = data[['위암병소수', 'smoking', '성별', '정규/응급', '수술명', '개복전환', '문합법', '합병절제', 'adhesion', 'invasion', 'radicality', 'LN dissection ', '수혈', '병변1 tubular', '병변1 circular', 'Stage']]\n",
    "pca_res = pca.fit_transform(for_pca)"
   ]
  },
  {
   "cell_type": "code",
   "execution_count": 7,
   "id": "bd8848d2-f5d3-46a8-be06-aa32c9884486",
   "metadata": {},
   "outputs": [],
   "source": [
    "data['pca_res'] = pca_res"
   ]
  },
  {
   "cell_type": "code",
   "execution_count": 8,
   "id": "afb337ff-8da9-4c1d-8502-d6756501b7dc",
   "metadata": {},
   "outputs": [],
   "source": [
    "# features = data[['수술시간(min)', 'margin(d)', 'SD start', 'smoking', '수혈', '가족암병력']]\n",
    "features = data.drop(['DSL', 'onset'], axis='columns')\n",
    "# features = data.drop(['Patient number','위암병소수', 'smoking', '성별', '정규/응급', '수술명', '개복전환', '문합법', '합병절제', 'adhesion', 'invasion', 'radicality', 'LN dissection ', '수혈', '병변1 tubular', '병변1 circular', 'Stage', 'DSL','onset'], axis='columns')\n",
    "features = data.drop(['위암병소수', 'smoking', '성별', '정규/응급', '수술명', '개복전환', '문합법', '합병절제', 'adhesion', 'invasion', 'radicality', 'LN dissection ', '수혈', '병변1 tubular', '병변1 circular', 'Stage', 'DSL','onset'], axis='columns')"
   ]
  },
  {
   "cell_type": "code",
   "execution_count": 9,
   "id": "c6239e1e-bfb9-4bc7-ae7f-ba4aaa4a992d",
   "metadata": {},
   "outputs": [],
   "source": [
    "scaler = StandardScaler()\n",
    "# model = LogisticRegression()\n",
    "model = RandomForestClassifier(criterion='entropy', n_estimators=500, n_jobs=2, random_state=1)"
   ]
  },
  {
   "cell_type": "code",
   "execution_count": 10,
   "id": "79bcf122-c715-442e-afb0-05cc9c928f4f",
   "metadata": {},
   "outputs": [],
   "source": [
    "scaled_features = scaler.fit_transform(features)\n",
    "features['DSL'] = label\n",
    "features.to_csv(\"./features_train.csv\")"
   ]
  },
  {
   "cell_type": "code",
   "execution_count": 11,
   "id": "a24d6e7e-3d21-4723-9b05-2c5cf2e5434c",
   "metadata": {},
   "outputs": [
    {
     "data": {
      "text/plain": [
       "RandomForestClassifier(criterion='entropy', n_estimators=500, n_jobs=2,\n",
       "                       random_state=1)"
      ]
     },
     "execution_count": 11,
     "metadata": {},
     "output_type": "execute_result"
    }
   ],
   "source": [
    "model.fit(scaled_features, label.values.ravel())"
   ]
  },
  {
   "cell_type": "code",
   "execution_count": 12,
   "id": "fe862f17-d521-4268-9dda-40585baa3432",
   "metadata": {},
   "outputs": [
    {
     "name": "stdout",
     "output_type": "stream",
     "text": [
      "1.0\n"
     ]
    }
   ],
   "source": [
    "print(model.score(scaled_features, label))"
   ]
  },
  {
   "cell_type": "code",
   "execution_count": 13,
   "id": "7a9f4ee0-b68c-4e46-ac11-406e48a25dd4",
   "metadata": {},
   "outputs": [],
   "source": [
    "test = pd.read_csv(\"./test_data_filled_5_Dec.csv\")\n",
    "test1 = pd.read_csv(\"./final_test.csv\")"
   ]
  },
  {
   "cell_type": "code",
   "execution_count": 14,
   "id": "027550b9-576f-4604-bfec-a76411540f06",
   "metadata": {},
   "outputs": [],
   "source": [
    "pca = PCA(n_components=1)\n",
    "for_pca = test[['위암병소수', 'smoking', '성별', '정규/응급', '수술명', '개복전환', '문합법', '합병절제', 'adhesion', 'invasion', 'radicality', 'LN dissection ', '수혈', '병변1 tubular', '병변1 circular', 'Stage']]\n",
    "pca_res = pca.fit_transform(for_pca)"
   ]
  },
  {
   "cell_type": "code",
   "execution_count": 15,
   "id": "379c413e-368f-4dc0-87f0-8c7ba6cf169a",
   "metadata": {},
   "outputs": [],
   "source": [
    "test['pca_res'] = pca_res"
   ]
  },
  {
   "cell_type": "code",
   "execution_count": 16,
   "id": "89223dd5-d928-4e5d-b978-3599ece88060",
   "metadata": {},
   "outputs": [],
   "source": [
    "features = test.drop(['DSL'], axis='columns')\n",
    "# features = test.drop(['Patient number', 'JP_Lip_Lt_POD#5', '위암병소수', 'smoking', '성별', '정규/응급', '수술명', '개복전환', '문합법', '합병절제', 'adhesion', 'invasion', 'radicality', 'LN dissection ', '수혈', '병변1 tubular', '병변1 circular', 'Stage', 'DSL'], axis='columns')\n",
    "features = test.drop(['위암병소수', 'smoking', '성별', '정규/응급', '수술명', '개복전환', '문합법', '합병절제', 'adhesion', 'invasion', 'radicality', 'LN dissection ', '수혈', '병변1 tubular', '병변1 circular', 'Stage', 'DSL'], axis='columns')\n",
    "features.to_csv(\"./features_test.csv\")"
   ]
  },
  {
   "cell_type": "code",
   "execution_count": 18,
   "id": "021440e9-9fa5-41a5-a95b-c59369b12c7b",
   "metadata": {},
   "outputs": [],
   "source": [
    "scaler = StandardScaler()\n",
    "scaled_features = scaler.fit_transform(features)"
   ]
  },
  {
   "cell_type": "code",
   "execution_count": 29,
   "id": "461dd504-e56d-40ab-8c41-eb86299f5f90",
   "metadata": {},
   "outputs": [
    {
     "name": "stdout",
     "output_type": "stream",
     "text": [
      "[[0.982 0.018]\n",
      " [0.984 0.016]\n",
      " [0.948 0.052]\n",
      " [0.82  0.18 ]\n",
      " [0.972 0.028]\n",
      " [0.982 0.018]\n",
      " [0.988 0.012]\n",
      " [0.996 0.004]\n",
      " [0.99  0.01 ]\n",
      " [0.98  0.02 ]\n",
      " [0.958 0.042]\n",
      " [0.874 0.126]\n",
      " [0.918 0.082]\n",
      " [0.96  0.04 ]\n",
      " [0.984 0.016]\n",
      " [0.758 0.242]\n",
      " [0.97  0.03 ]\n",
      " [0.976 0.024]\n",
      " [0.938 0.062]\n",
      " [0.95  0.05 ]\n",
      " [0.976 0.024]\n",
      " [0.894 0.106]\n",
      " [0.948 0.052]\n",
      " [0.922 0.078]\n",
      " [0.91  0.09 ]\n",
      " [0.932 0.068]\n",
      " [0.984 0.016]\n",
      " [0.936 0.064]\n",
      " [0.994 0.006]\n",
      " [0.996 0.004]\n",
      " [0.866 0.134]\n",
      " [0.948 0.052]\n",
      " [0.976 0.024]\n",
      " [0.958 0.042]\n",
      " [0.96  0.04 ]\n",
      " [0.994 0.006]\n",
      " [0.92  0.08 ]\n",
      " [0.922 0.078]\n",
      " [0.998 0.002]\n",
      " [0.926 0.074]\n",
      " [0.988 0.012]\n",
      " [0.988 0.012]\n",
      " [0.992 0.008]\n",
      " [0.978 0.022]\n",
      " [0.934 0.066]\n",
      " [0.99  0.01 ]\n",
      " [0.968 0.032]\n",
      " [0.892 0.108]\n",
      " [0.972 0.028]\n",
      " [0.984 0.016]\n",
      " [0.984 0.016]\n",
      " [0.994 0.006]\n",
      " [0.97  0.03 ]\n",
      " [0.9   0.1  ]\n",
      " [0.98  0.02 ]\n",
      " [0.962 0.038]\n",
      " [0.982 0.018]\n",
      " [0.988 0.012]\n",
      " [0.946 0.054]\n",
      " [0.944 0.056]\n",
      " [0.944 0.056]\n",
      " [0.916 0.084]\n",
      " [0.722 0.278]\n",
      " [0.976 0.024]\n",
      " [0.826 0.174]\n",
      " [0.628 0.372]\n",
      " [1.    0.   ]\n",
      " [0.968 0.032]\n",
      " [0.972 0.028]\n",
      " [0.986 0.014]\n",
      " [0.986 0.014]\n",
      " [0.954 0.046]\n",
      " [0.892 0.108]\n",
      " [0.956 0.044]\n",
      " [0.916 0.084]\n",
      " [0.994 0.006]\n",
      " [0.994 0.006]\n",
      " [0.96  0.04 ]\n",
      " [0.94  0.06 ]\n",
      " [0.992 0.008]\n",
      " [0.982 0.018]\n",
      " [0.994 0.006]\n",
      " [0.996 0.004]\n",
      " [0.952 0.048]\n",
      " [0.958 0.042]\n",
      " [0.948 0.052]\n",
      " [0.982 0.018]\n",
      " [0.99  0.01 ]\n",
      " [0.97  0.03 ]\n",
      " [0.994 0.006]\n",
      " [0.914 0.086]\n",
      " [0.97  0.03 ]\n",
      " [0.868 0.132]\n",
      " [0.972 0.028]\n",
      " [0.99  0.01 ]\n",
      " [0.77  0.23 ]\n",
      " [0.936 0.064]\n",
      " [0.97  0.03 ]\n",
      " [0.93  0.07 ]\n",
      " [0.958 0.042]\n",
      " [0.988 0.012]\n",
      " [0.894 0.106]\n",
      " [0.94  0.06 ]\n",
      " [0.848 0.152]\n",
      " [0.936 0.064]\n",
      " [0.734 0.266]\n",
      " [0.912 0.088]\n",
      " [0.984 0.016]\n",
      " [0.942 0.058]\n",
      " [0.974 0.026]\n",
      " [0.91  0.09 ]\n",
      " [0.89  0.11 ]\n",
      " [0.992 0.008]\n",
      " [0.974 0.026]\n",
      " [0.978 0.022]\n",
      " [0.988 0.012]\n",
      " [0.93  0.07 ]\n",
      " [0.852 0.148]\n",
      " [0.992 0.008]\n",
      " [0.944 0.056]\n",
      " [0.942 0.058]\n",
      " [0.736 0.264]\n",
      " [0.976 0.024]\n",
      " [0.986 0.014]\n",
      " [0.966 0.034]\n",
      " [0.986 0.014]\n",
      " [0.958 0.042]\n",
      " [0.93  0.07 ]\n",
      " [0.926 0.074]\n",
      " [0.93  0.07 ]\n",
      " [0.964 0.036]\n",
      " [0.714 0.286]\n",
      " [0.7   0.3  ]\n",
      " [0.926 0.074]\n",
      " [0.934 0.066]\n",
      " [0.992 0.008]\n",
      " [0.99  0.01 ]\n",
      " [0.99  0.01 ]\n",
      " [0.94  0.06 ]\n",
      " [0.98  0.02 ]\n",
      " [0.848 0.152]\n",
      " [0.972 0.028]\n",
      " [0.944 0.056]\n",
      " [0.92  0.08 ]\n",
      " [0.936 0.064]\n",
      " [0.988 0.012]\n",
      " [0.986 0.014]\n",
      " [0.988 0.012]\n",
      " [0.968 0.032]\n",
      " [0.984 0.016]\n",
      " [0.984 0.016]\n",
      " [0.988 0.012]\n",
      " [0.986 0.014]\n",
      " [0.918 0.082]\n",
      " [0.998 0.002]\n",
      " [0.992 0.008]\n",
      " [0.99  0.01 ]\n",
      " [0.886 0.114]\n",
      " [0.972 0.028]\n",
      " [0.958 0.042]\n",
      " [0.996 0.004]\n",
      " [0.972 0.028]\n",
      " [0.958 0.042]\n",
      " [0.938 0.062]\n",
      " [0.996 0.004]\n",
      " [0.99  0.01 ]\n",
      " [0.978 0.022]\n",
      " [0.942 0.058]\n",
      " [0.872 0.128]\n",
      " [0.982 0.018]\n",
      " [0.882 0.118]\n",
      " [0.762 0.238]\n",
      " [0.912 0.088]\n",
      " [0.8   0.2  ]\n",
      " [0.97  0.03 ]\n",
      " [0.982 0.018]\n",
      " [0.964 0.036]\n",
      " [0.934 0.066]\n",
      " [0.956 0.044]\n",
      " [0.992 0.008]\n",
      " [0.754 0.246]\n",
      " [0.954 0.046]\n",
      " [0.924 0.076]\n",
      " [0.982 0.018]\n",
      " [0.99  0.01 ]\n",
      " [0.97  0.03 ]\n",
      " [0.904 0.096]\n",
      " [0.908 0.092]\n",
      " [0.92  0.08 ]\n",
      " [0.958 0.042]\n",
      " [0.94  0.06 ]\n",
      " [0.948 0.052]\n",
      " [0.972 0.028]\n",
      " [0.934 0.066]\n",
      " [0.958 0.042]\n",
      " [0.97  0.03 ]\n",
      " [0.984 0.016]\n",
      " [0.986 0.014]\n",
      " [0.984 0.016]\n",
      " [0.926 0.074]\n",
      " [0.998 0.002]\n",
      " [0.974 0.026]\n",
      " [1.    0.   ]\n",
      " [0.886 0.114]\n",
      " [0.85  0.15 ]\n",
      " [0.92  0.08 ]\n",
      " [0.948 0.052]\n",
      " [0.994 0.006]\n",
      " [0.982 0.018]\n",
      " [0.99  0.01 ]\n",
      " [0.95  0.05 ]\n",
      " [0.976 0.024]\n",
      " [0.914 0.086]\n",
      " [0.842 0.158]\n",
      " [0.952 0.048]\n",
      " [0.936 0.064]\n",
      " [0.976 0.024]\n",
      " [0.988 0.012]\n",
      " [0.984 0.016]\n",
      " [0.99  0.01 ]\n",
      " [0.908 0.092]\n",
      " [0.856 0.144]\n",
      " [0.996 0.004]\n",
      " [1.    0.   ]\n",
      " [0.986 0.014]\n",
      " [0.914 0.086]\n",
      " [0.988 0.012]\n",
      " [0.988 0.012]\n",
      " [0.896 0.104]\n",
      " [0.994 0.006]\n",
      " [0.96  0.04 ]\n",
      " [0.978 0.022]\n",
      " [0.986 0.014]\n",
      " [0.982 0.018]\n",
      " [0.978 0.022]\n",
      " [0.75  0.25 ]\n",
      " [0.928 0.072]\n",
      " [0.988 0.012]\n",
      " [0.986 0.014]\n",
      " [0.83  0.17 ]\n",
      " [0.994 0.006]\n",
      " [0.944 0.056]\n",
      " [0.988 0.012]\n",
      " [0.984 0.016]\n",
      " [0.942 0.058]\n",
      " [0.936 0.064]\n",
      " [0.978 0.022]\n",
      " [1.    0.   ]\n",
      " [0.966 0.034]\n",
      " [0.896 0.104]\n",
      " [0.926 0.074]\n",
      " [0.97  0.03 ]\n",
      " [0.8   0.2  ]\n",
      " [0.986 0.014]\n",
      " [0.926 0.074]\n",
      " [0.954 0.046]\n",
      " [0.948 0.052]\n",
      " [0.974 0.026]\n",
      " [0.926 0.074]\n",
      " [0.976 0.024]\n",
      " [0.976 0.024]\n",
      " [0.814 0.186]\n",
      " [0.982 0.018]\n",
      " [1.    0.   ]\n",
      " [0.836 0.164]\n",
      " [0.99  0.01 ]\n",
      " [0.948 0.052]\n",
      " [0.992 0.008]\n",
      " [0.882 0.118]\n",
      " [0.916 0.084]\n",
      " [0.936 0.064]\n",
      " [0.998 0.002]\n",
      " [0.954 0.046]\n",
      " [0.878 0.122]\n",
      " [0.998 0.002]\n",
      " [0.76  0.24 ]\n",
      " [0.986 0.014]\n",
      " [0.9   0.1  ]\n",
      " [0.824 0.176]\n",
      " [0.974 0.026]\n",
      " [0.782 0.218]\n",
      " [0.998 0.002]\n",
      " [0.978 0.022]\n",
      " [0.976 0.024]\n",
      " [0.922 0.078]\n",
      " [0.996 0.004]\n",
      " [0.998 0.002]\n",
      " [0.942 0.058]\n",
      " [0.996 0.004]\n",
      " [0.97  0.03 ]\n",
      " [0.952 0.048]\n",
      " [0.984 0.016]]\n"
     ]
    }
   ],
   "source": [
    "res = model.predict_proba(scaled_features)\n",
    "print(res)"
   ]
  },
  {
   "cell_type": "code",
   "execution_count": 24,
   "id": "3f3a4777-955f-463e-8e14-39a53ff1424b",
   "metadata": {},
   "outputs": [],
   "source": [
    "patient_num = test1['Patient number']"
   ]
  },
  {
   "cell_type": "code",
   "execution_count": 30,
   "id": "ffacfc5d-e1a4-4206-b397-3382260e7044",
   "metadata": {},
   "outputs": [],
   "source": [
    "# patient_num = list(patient_num)\n",
    "patient_num = range(1, 293)"
   ]
  },
  {
   "cell_type": "code",
   "execution_count": 31,
   "id": "1c1f2b2b-05b5-4d23-a32c-2526a351e338",
   "metadata": {},
   "outputs": [],
   "source": [
    "res = list(res)"
   ]
  },
  {
   "cell_type": "code",
   "execution_count": 32,
   "id": "0188eb40-b58c-4b09-972e-5ce9122f77da",
   "metadata": {},
   "outputs": [
    {
     "name": "stdout",
     "output_type": "stream",
     "text": [
      "292 292\n"
     ]
    }
   ],
   "source": [
    "final = []\n",
    "print(len(res), len(patient_num))\n",
    "for i in range(len(res)):\n",
    "    final.append([patient_num[i], res[i]])"
   ]
  },
  {
   "cell_type": "code",
   "execution_count": 33,
   "id": "2517fac0-41be-46b7-87ea-a887cd6a243c",
   "metadata": {},
   "outputs": [],
   "source": [
    "final_final = []\n",
    "temp = []\n",
    "for i in range(len(final)):\n",
    "    temp.append(int(final[i][0]))\n",
    "    temp.append(np.where(final[i][1] > 0.5)[0][0])\n",
    "    temp.append(final[i][1][np.where(final[i][1] > 0.5)[0][0]])\n",
    "    final_final.append(temp)\n",
    "    temp = []"
   ]
  },
  {
   "cell_type": "code",
   "execution_count": 34,
   "id": "ab1ae2d8-403f-43eb-b544-e4cc58dcac3d",
   "metadata": {},
   "outputs": [],
   "source": [
    "final = sorted(final_final, key=lambda x : x[2], reverse=True)"
   ]
  },
  {
   "cell_type": "code",
   "execution_count": 35,
   "id": "e22908d1-f481-4d7a-8c35-3b6e5ef710ec",
   "metadata": {},
   "outputs": [],
   "source": [
    "to_f = []\n",
    "for i in final:\n",
    "    to_f.append(i[0])\n",
    "to_csvd = pd.DataFrame({'Patient number': to_f})"
   ]
  },
  {
   "cell_type": "code",
   "execution_count": 36,
   "id": "89ebdbc1-e477-4426-8ef3-8f5012af36a9",
   "metadata": {},
   "outputs": [],
   "source": [
    "to_csvd.to_csv(\"Prediction.csv\")"
   ]
  },
  {
   "cell_type": "code",
   "execution_count": 37,
   "id": "c9a4dfec-74d7-4e87-9b0b-d97e868eda9e",
   "metadata": {},
   "outputs": [
    {
     "name": "stdout",
     "output_type": "stream",
     "text": [
      "     Patient number\n",
      "0                67\n",
      "1               203\n",
      "2               224\n",
      "3               248\n",
      "4               264\n",
      "..              ...\n",
      "287             106\n",
      "288              63\n",
      "289             132\n",
      "290             133\n",
      "291              66\n",
      "\n",
      "[292 rows x 1 columns]\n"
     ]
    }
   ],
   "source": [
    "print(to_csvd)"
   ]
  },
  {
   "cell_type": "code",
   "execution_count": null,
   "id": "788bc2b5-88bf-407d-a9ce-b56e6dcf3d31",
   "metadata": {},
   "outputs": [],
   "source": []
  }
 ],
 "metadata": {
  "kernelspec": {
   "display_name": "Python 3",
   "language": "python",
   "name": "python3"
  },
  "language_info": {
   "codemirror_mode": {
    "name": "ipython",
    "version": 3
   },
   "file_extension": ".py",
   "mimetype": "text/x-python",
   "name": "python",
   "nbconvert_exporter": "python",
   "pygments_lexer": "ipython3",
   "version": "3.8.8"
  }
 },
 "nbformat": 4,
 "nbformat_minor": 5
}
