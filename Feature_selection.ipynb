{
 "cells": [
  {
   "cell_type": "code",
   "execution_count": 58,
   "id": "18066edc",
   "metadata": {},
   "outputs": [
    {
     "name": "stdout",
     "output_type": "stream",
     "text": [
      "Collecting scikit-learn\n",
      "  Downloading scikit_learn-1.1.3-cp310-cp310-win_amd64.whl (7.5 MB)\n",
      "     ---------------------------------------- 7.5/7.5 MB 20.1 MB/s eta 0:00:00\n",
      "Requirement already satisfied: scipy in c:\\users\\윤성주\\appdata\\local\\packages\\pythonsoftwarefoundation.python.3.10_qbz5n2kfra8p0\\localcache\\local-packages\\python310\\site-packages (1.9.3)\n",
      "Requirement already satisfied: matplotlib in c:\\users\\윤성주\\appdata\\local\\packages\\pythonsoftwarefoundation.python.3.10_qbz5n2kfra8p0\\localcache\\local-packages\\python310\\site-packages (3.5.2)\n",
      "Collecting matplotlib\n",
      "  Downloading matplotlib-3.6.2-cp310-cp310-win_amd64.whl (7.2 MB)\n",
      "     ---------------------------------------- 7.2/7.2 MB 30.8 MB/s eta 0:00:00\n",
      "Requirement already satisfied: numpy>=1.17.3 in c:\\users\\윤성주\\appdata\\local\\packages\\pythonsoftwarefoundation.python.3.10_qbz5n2kfra8p0\\localcache\\local-packages\\python310\\site-packages (from scikit-learn) (1.22.4)\n",
      "Collecting threadpoolctl>=2.0.0\n",
      "  Downloading threadpoolctl-3.1.0-py3-none-any.whl (14 kB)\n",
      "Collecting joblib>=1.0.0\n",
      "  Downloading joblib-1.2.0-py3-none-any.whl (297 kB)\n",
      "     ---------------------------------------- 298.0/298.0 kB ? eta 0:00:00\n",
      "Requirement already satisfied: pillow>=6.2.0 in c:\\users\\윤성주\\appdata\\local\\packages\\pythonsoftwarefoundation.python.3.10_qbz5n2kfra8p0\\localcache\\local-packages\\python310\\site-packages (from matplotlib) (9.1.1)\n",
      "Requirement already satisfied: python-dateutil>=2.7 in c:\\users\\윤성주\\appdata\\local\\packages\\pythonsoftwarefoundation.python.3.10_qbz5n2kfra8p0\\localcache\\local-packages\\python310\\site-packages (from matplotlib) (2.8.2)\n",
      "Requirement already satisfied: packaging>=20.0 in c:\\users\\윤성주\\appdata\\local\\packages\\pythonsoftwarefoundation.python.3.10_qbz5n2kfra8p0\\localcache\\local-packages\\python310\\site-packages (from matplotlib) (21.3)\n",
      "Requirement already satisfied: pyparsing>=2.2.1 in c:\\users\\윤성주\\appdata\\local\\packages\\pythonsoftwarefoundation.python.3.10_qbz5n2kfra8p0\\localcache\\local-packages\\python310\\site-packages (from matplotlib) (3.0.9)\n",
      "Requirement already satisfied: fonttools>=4.22.0 in c:\\users\\윤성주\\appdata\\local\\packages\\pythonsoftwarefoundation.python.3.10_qbz5n2kfra8p0\\localcache\\local-packages\\python310\\site-packages (from matplotlib) (4.33.3)\n",
      "Collecting contourpy>=1.0.1\n",
      "  Downloading contourpy-1.0.6-cp310-cp310-win_amd64.whl (163 kB)\n",
      "     -------------------------------------- 163.6/163.6 kB 9.6 MB/s eta 0:00:00\n",
      "Requirement already satisfied: cycler>=0.10 in c:\\users\\윤성주\\appdata\\local\\packages\\pythonsoftwarefoundation.python.3.10_qbz5n2kfra8p0\\localcache\\local-packages\\python310\\site-packages (from matplotlib) (0.11.0)\n",
      "Requirement already satisfied: kiwisolver>=1.0.1 in c:\\users\\윤성주\\appdata\\local\\packages\\pythonsoftwarefoundation.python.3.10_qbz5n2kfra8p0\\localcache\\local-packages\\python310\\site-packages (from matplotlib) (1.4.2)\n",
      "Requirement already satisfied: six>=1.5 in c:\\users\\윤성주\\appdata\\local\\packages\\pythonsoftwarefoundation.python.3.10_qbz5n2kfra8p0\\localcache\\local-packages\\python310\\site-packages (from python-dateutil>=2.7->matplotlib) (1.16.0)\n",
      "Installing collected packages: threadpoolctl, joblib, contourpy, scikit-learn, matplotlib\n",
      "  Attempting uninstall: matplotlib\n",
      "    Found existing installation: matplotlib 3.5.2\n",
      "    Uninstalling matplotlib-3.5.2:\n",
      "      Successfully uninstalled matplotlib-3.5.2\n"
     ]
    },
    {
     "name": "stderr",
     "output_type": "stream",
     "text": [
      "ERROR: Could not install packages due to an OSError: [WinError 5] 액세스가 거부되었습니다: 'C:\\\\Users\\\\윤성주\\\\AppData\\\\Local\\\\Packages\\\\PythonSoftwareFoundation.Python.3.10_qbz5n2kfra8p0\\\\LocalCache\\\\local-packages\\\\Python310\\\\site-packages\\\\~atplotlib\\\\ft2font.cp310-win_amd64.pyd'\n",
      "Check the permissions.\n",
      "\n"
     ]
    }
   ],
   "source": [
    "!pip3 install -U scikit-learn scipy matplotlib"
   ]
  },
  {
   "cell_type": "code",
   "execution_count": 1,
   "id": "8b8ac255",
   "metadata": {},
   "outputs": [],
   "source": [
    "import pandas as pd\n",
    "\n",
    "df = pd.read_csv(r'../train_data_new_filled.csv')"
   ]
  },
  {
   "cell_type": "code",
   "execution_count": 2,
   "id": "d6a30520",
   "metadata": {},
   "outputs": [
    {
     "data": {
      "text/html": [
       "<div>\n",
       "<style scoped>\n",
       "    .dataframe tbody tr th:only-of-type {\n",
       "        vertical-align: middle;\n",
       "    }\n",
       "\n",
       "    .dataframe tbody tr th {\n",
       "        vertical-align: top;\n",
       "    }\n",
       "\n",
       "    .dataframe thead th {\n",
       "        text-align: right;\n",
       "    }\n",
       "</style>\n",
       "<table border=\"1\" class=\"dataframe\">\n",
       "  <thead>\n",
       "    <tr style=\"text-align: right;\">\n",
       "      <th></th>\n",
       "      <th>나이</th>\n",
       "      <th>BMI</th>\n",
       "      <th>수술시간(min)</th>\n",
       "      <th>출혈량(mL)</th>\n",
       "      <th>GAS OUT</th>\n",
       "      <th>SD start</th>\n",
       "      <th>병변1 크기(Cm)</th>\n",
       "      <th>margin(d)</th>\n",
       "      <th>WBCmean</th>\n",
       "      <th>CRPmean</th>\n",
       "      <th>...</th>\n",
       "      <th>invasion</th>\n",
       "      <th>radicality</th>\n",
       "      <th>LN dissection</th>\n",
       "      <th>수혈</th>\n",
       "      <th>위암병소수</th>\n",
       "      <th>병변1 tubular</th>\n",
       "      <th>병변1 circular</th>\n",
       "      <th>Stage</th>\n",
       "      <th>DSL</th>\n",
       "      <th>onset</th>\n",
       "    </tr>\n",
       "  </thead>\n",
       "  <tbody>\n",
       "    <tr>\n",
       "      <th>0</th>\n",
       "      <td>53.0</td>\n",
       "      <td>17.11</td>\n",
       "      <td>180.0</td>\n",
       "      <td>80.0</td>\n",
       "      <td>3.0</td>\n",
       "      <td>4.0</td>\n",
       "      <td>10.4</td>\n",
       "      <td>1.3</td>\n",
       "      <td>7.998220</td>\n",
       "      <td>5.44</td>\n",
       "      <td>...</td>\n",
       "      <td>1.0</td>\n",
       "      <td>0.0</td>\n",
       "      <td>4.0</td>\n",
       "      <td>0.0</td>\n",
       "      <td>1.0</td>\n",
       "      <td>0.0</td>\n",
       "      <td>2.0</td>\n",
       "      <td>4.0</td>\n",
       "      <td>0.0</td>\n",
       "      <td>NaN</td>\n",
       "    </tr>\n",
       "    <tr>\n",
       "      <th>1</th>\n",
       "      <td>62.0</td>\n",
       "      <td>24.01</td>\n",
       "      <td>180.0</td>\n",
       "      <td>80.0</td>\n",
       "      <td>2.0</td>\n",
       "      <td>5.0</td>\n",
       "      <td>2.3</td>\n",
       "      <td>9.6</td>\n",
       "      <td>7.941018</td>\n",
       "      <td>5.06</td>\n",
       "      <td>...</td>\n",
       "      <td>1.0</td>\n",
       "      <td>0.0</td>\n",
       "      <td>4.0</td>\n",
       "      <td>0.0</td>\n",
       "      <td>1.0</td>\n",
       "      <td>3.0</td>\n",
       "      <td>2.0</td>\n",
       "      <td>1.0</td>\n",
       "      <td>0.0</td>\n",
       "      <td>NaN</td>\n",
       "    </tr>\n",
       "    <tr>\n",
       "      <th>2</th>\n",
       "      <td>70.0</td>\n",
       "      <td>29.70</td>\n",
       "      <td>180.0</td>\n",
       "      <td>50.0</td>\n",
       "      <td>2.0</td>\n",
       "      <td>5.0</td>\n",
       "      <td>1.5</td>\n",
       "      <td>14.8</td>\n",
       "      <td>8.377507</td>\n",
       "      <td>10.18</td>\n",
       "      <td>...</td>\n",
       "      <td>1.0</td>\n",
       "      <td>0.0</td>\n",
       "      <td>2.0</td>\n",
       "      <td>0.0</td>\n",
       "      <td>1.0</td>\n",
       "      <td>2.0</td>\n",
       "      <td>2.0</td>\n",
       "      <td>1.0</td>\n",
       "      <td>0.0</td>\n",
       "      <td>NaN</td>\n",
       "    </tr>\n",
       "    <tr>\n",
       "      <th>3</th>\n",
       "      <td>72.0</td>\n",
       "      <td>25.06</td>\n",
       "      <td>180.0</td>\n",
       "      <td>100.0</td>\n",
       "      <td>4.0</td>\n",
       "      <td>14.0</td>\n",
       "      <td>1.5</td>\n",
       "      <td>13.1</td>\n",
       "      <td>9.600000</td>\n",
       "      <td>16.45</td>\n",
       "      <td>...</td>\n",
       "      <td>1.0</td>\n",
       "      <td>0.0</td>\n",
       "      <td>4.0</td>\n",
       "      <td>0.0</td>\n",
       "      <td>2.0</td>\n",
       "      <td>1.0</td>\n",
       "      <td>0.0</td>\n",
       "      <td>1.0</td>\n",
       "      <td>0.0</td>\n",
       "      <td>NaN</td>\n",
       "    </tr>\n",
       "    <tr>\n",
       "      <th>4</th>\n",
       "      <td>53.0</td>\n",
       "      <td>27.88</td>\n",
       "      <td>180.0</td>\n",
       "      <td>50.0</td>\n",
       "      <td>3.0</td>\n",
       "      <td>4.0</td>\n",
       "      <td>1.2</td>\n",
       "      <td>11.6</td>\n",
       "      <td>9.360000</td>\n",
       "      <td>10.54</td>\n",
       "      <td>...</td>\n",
       "      <td>1.0</td>\n",
       "      <td>0.0</td>\n",
       "      <td>4.0</td>\n",
       "      <td>0.0</td>\n",
       "      <td>2.0</td>\n",
       "      <td>1.0</td>\n",
       "      <td>3.0</td>\n",
       "      <td>1.0</td>\n",
       "      <td>0.0</td>\n",
       "      <td>NaN</td>\n",
       "    </tr>\n",
       "  </tbody>\n",
       "</table>\n",
       "<p>5 rows × 29 columns</p>\n",
       "</div>"
      ],
      "text/plain": [
       "     나이    BMI  수술시간(min)  출혈량(mL)  GAS OUT  SD start  병변1 크기(Cm)  margin(d)  \\\n",
       "0  53.0  17.11      180.0     80.0      3.0       4.0        10.4        1.3   \n",
       "1  62.0  24.01      180.0     80.0      2.0       5.0         2.3        9.6   \n",
       "2  70.0  29.70      180.0     50.0      2.0       5.0         1.5       14.8   \n",
       "3  72.0  25.06      180.0    100.0      4.0      14.0         1.5       13.1   \n",
       "4  53.0  27.88      180.0     50.0      3.0       4.0         1.2       11.6   \n",
       "\n",
       "    WBCmean  CRPmean  ...  invasion  radicality  LN dissection    수혈  위암병소수  \\\n",
       "0  7.998220     5.44  ...       1.0         0.0             4.0  0.0    1.0   \n",
       "1  7.941018     5.06  ...       1.0         0.0             4.0  0.0    1.0   \n",
       "2  8.377507    10.18  ...       1.0         0.0             2.0  0.0    1.0   \n",
       "3  9.600000    16.45  ...       1.0         0.0             4.0  0.0    2.0   \n",
       "4  9.360000    10.54  ...       1.0         0.0             4.0  0.0    2.0   \n",
       "\n",
       "   병변1 tubular  병변1 circular  Stage  DSL  onset  \n",
       "0          0.0           2.0    4.0  0.0    NaN  \n",
       "1          3.0           2.0    1.0  0.0    NaN  \n",
       "2          2.0           2.0    1.0  0.0    NaN  \n",
       "3          1.0           0.0    1.0  0.0    NaN  \n",
       "4          1.0           3.0    1.0  0.0    NaN  \n",
       "\n",
       "[5 rows x 29 columns]"
      ]
     },
     "execution_count": 2,
     "metadata": {},
     "output_type": "execute_result"
    }
   ],
   "source": [
    "df.head()"
   ]
  },
  {
   "cell_type": "code",
   "execution_count": 11,
   "id": "c7751447",
   "metadata": {},
   "outputs": [
    {
     "name": "stderr",
     "output_type": "stream",
     "text": [
      "C:\\Users\\윤성주\\AppData\\Local\\Temp\\ipykernel_34580\\4244783022.py:5: SettingWithCopyWarning: \n",
      "A value is trying to be set on a copy of a slice from a DataFrame.\n",
      "Try using .loc[row_indexer,col_indexer] = value instead\n",
      "\n",
      "See the caveats in the documentation: https://pandas.pydata.org/pandas-docs/stable/user_guide/indexing.html#returning-a-view-versus-a-copy\n",
      "  numeric_columns[name] = (numeric_columns[name] - numeric_columns[name].mean()) / numeric_columns[name].std()\n"
     ]
    }
   ],
   "source": [
    "numeric_columns = (df.iloc[:,0:9])\n",
    "\n",
    "# Standarize numeric values\n",
    "for name in numeric_columns.columns:\n",
    "    numeric_columns[name] = (numeric_columns[name] - numeric_columns[name].mean()) / numeric_columns[name].std()\n",
    "    \n",
    "numeric_columns_with_result = pd.concat([numeric_columns, df.iloc[:,[-2]]],axis=1)\n",
    "\n",
    "\n",
    "categorical_columns = (df.iloc[:,10:-2])\n",
    "categorical_columns_with_result = pd.concat([categorical_columns,df.iloc[:,[-2]]],axis=1)"
   ]
  },
  {
   "cell_type": "code",
   "execution_count": 16,
   "id": "d300c2de",
   "metadata": {},
   "outputs": [],
   "source": [
    "# calc correlation with numerical columns\n",
    "\n",
    "correlation1 = numeric_columns_with_result.corrwith(numeric_columns_with_result[\"DSL\"])\n",
    "dict_corr1 = correlation1.dropna().abs().to_dict()\n",
    "sorted_dict_corr1 = dict(sorted(dict_corr1.items(), key=lambda item: item[1]))"
   ]
  },
  {
   "cell_type": "code",
   "execution_count": 17,
   "id": "c511cbd6",
   "metadata": {},
   "outputs": [
    {
     "data": {
      "text/plain": [
       "{'수술시간(min)': 0.002717737704227472,\n",
       " 'margin(d)': 0.008533165533053557,\n",
       " 'SD start': 0.025754225044157416,\n",
       " 'GAS OUT': 0.02923031264886944,\n",
       " '나이': 0.0329802017053908,\n",
       " 'BMI': 0.048025137167642486,\n",
       " 'WBCmean': 0.06580052842192045,\n",
       " '출혈량(mL)': 0.0697330777457113,\n",
       " '병변1 크기(Cm)': 0.07100133801833368,\n",
       " 'DSL': 1.0}"
      ]
     },
     "execution_count": 17,
     "metadata": {},
     "output_type": "execute_result"
    }
   ],
   "source": [
    "sorted_dict_corr1"
   ]
  },
  {
   "cell_type": "code",
   "execution_count": 19,
   "id": "991ad84e",
   "metadata": {},
   "outputs": [],
   "source": [
    "# calc correlation with numerical columns\n",
    "\n",
    "correlation2 = categorical_columns_with_result.corrwith(categorical_columns_with_result[\"DSL\"])\n",
    "dict_corr2 = correlation2.dropna().abs().to_dict()\n",
    "sorted_dict_corr2 = dict(sorted(dict_corr2.items(), key=lambda item: item[1]))"
   ]
  },
  {
   "cell_type": "code",
   "execution_count": 20,
   "id": "b8e374fb",
   "metadata": {},
   "outputs": [
    {
     "data": {
      "text/plain": [
       "{'smoking': 0.014600014121050268,\n",
       " '수혈': 0.01696512417726904,\n",
       " '가족암병력': 0.018327365198701345,\n",
       " '성별': 0.020439125265294567,\n",
       " '병변1 circular': 0.020830321282751543,\n",
       " '병변1 tubular': 0.02429538296322506,\n",
       " 'LN dissection ': 0.02639152904168625,\n",
       " '정규/응급': 0.03374583467306714,\n",
       " 'adhesion': 0.037017786472607075,\n",
       " '위암병소수': 0.04439782515689469,\n",
       " 'invasion': 0.04819768966264102,\n",
       " '수술명': 0.06072471119956728,\n",
       " '개복전환': 0.07061226398538885,\n",
       " '문합법': 0.0935310972020782,\n",
       " '합병절제                   ': 0.09627777194224613,\n",
       " 'Stage': 0.09744062953543126,\n",
       " 'DSL': 1.0}"
      ]
     },
     "execution_count": 20,
     "metadata": {},
     "output_type": "execute_result"
    }
   ],
   "source": [
    "sorted_dict_corr2"
   ]
  },
  {
   "cell_type": "code",
   "execution_count": 32,
   "id": "54649fb4",
   "metadata": {},
   "outputs": [
    {
     "data": {
      "text/plain": [
       "array([0.19661453, 0.18450603, 0.13974742, 0.11021063])"
      ]
     },
     "execution_count": 32,
     "metadata": {},
     "output_type": "execute_result"
    }
   ],
   "source": [
    "# PCA with numeric value\n",
    "from sklearn.decomposition import PCA\n",
    "\n",
    "pca1 = PCA(n_components=4)\n",
    "printcipalComponents1 = pca1.fit_transform(numeric_columns)\n",
    "principalDf1 = pd.DataFrame(data = printcipalComponents1, columns = ['principal component1', 'principal component2', 'principal component3', 'principal component4'])\n",
    "# PCA Dataframe\n",
    "\n",
    "pca1.explained_variance_ratio_"
   ]
  },
  {
   "cell_type": "code",
   "execution_count": 33,
   "id": "5c201e94",
   "metadata": {},
   "outputs": [
    {
     "data": {
      "text/plain": [
       "array([0.47590393])"
      ]
     },
     "execution_count": 33,
     "metadata": {},
     "output_type": "execute_result"
    }
   ],
   "source": [
    "# PCA with categorical value\n",
    "\n",
    "pca2 = PCA(n_components=1)\n",
    "printcipalComponents2 = pca2.fit_transform(categorical_columns)\n",
    "principalDf2 = pd.DataFrame(data = printcipalComponents2, columns = ['principal component1'])\n",
    "# PCA Dataframe\n",
    "\n",
    "pca2.explained_variance_ratio_"
   ]
  }
 ],
 "metadata": {
  "kernelspec": {
   "display_name": "Python 3 (ipykernel)",
   "language": "python",
   "name": "python3"
  },
  "language_info": {
   "codemirror_mode": {
    "name": "ipython",
    "version": 3
   },
   "file_extension": ".py",
   "mimetype": "text/x-python",
   "name": "python",
   "nbconvert_exporter": "python",
   "pygments_lexer": "ipython3",
   "version": "3.10.8"
  }
 },
 "nbformat": 4,
 "nbformat_minor": 5
}
